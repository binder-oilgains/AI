{
 "cells": [
  {
   "cell_type": "code",
   "execution_count": 5,
   "metadata": {},
   "outputs": [],
   "source": [
    "import time\n",
    "import random\n",
    "import numpy as np\n",
    "from ipywidgets import Button, Textarea, Layout, interact, IntSlider\n",
    "from IPython.display import display"
   ]
  },
  {
   "cell_type": "code",
   "execution_count": 20,
   "metadata": {},
   "outputs": [
    {
     "data": {
      "application/vnd.jupyter.widget-view+json": {
       "model_id": "d28003311fc04d359b77ec81881c46e2",
       "version_major": 2,
       "version_minor": 0
      },
      "text/plain": [
       "IntSlider(value=10, continuous_update=False, description='Chiffres:', max=30, min=2)"
      ]
     },
     "metadata": {},
     "output_type": "display_data"
    },
    {
     "data": {
      "application/vnd.jupyter.widget-view+json": {
       "model_id": "dc858b4137f1454f8d92a07a31355710",
       "version_major": 2,
       "version_minor": 0
      },
      "text/plain": [
       "IntSlider(value=10, continuous_update=False, description='Mesures:', max=30, min=2)"
      ]
     },
     "metadata": {},
     "output_type": "display_data"
    },
    {
     "data": {
      "application/vnd.jupyter.widget-view+json": {
       "model_id": "b63bd8eafcc049fb8990880c8f4967ed",
       "version_major": 2,
       "version_minor": 0
      },
      "text/plain": [
       "Button(description='RUN TEST', style=ButtonStyle())"
      ]
     },
     "metadata": {},
     "output_type": "display_data"
    },
    {
     "data": {
      "application/vnd.jupyter.widget-view+json": {
       "model_id": "5d89065b674e477c84ae8c5465f81717",
       "version_major": 2,
       "version_minor": 0
      },
      "text/plain": [
       "Textarea(value=' ', description=' ', disabled=True, layout=Layout(height='250px', width='100%'), placeholder='…"
      ]
     },
     "metadata": {},
     "output_type": "display_data"
    }
   ],
   "source": [
    "lout = Textarea(\n",
    "    value=\" \",\n",
    "    placeholder=' ',\n",
    "    description=' ',\n",
    "    disabled=True,\n",
    "    layout=Layout(width='100%', height='250px')\n",
    ")\n",
    "\n",
    "Nbr_chiffres = IntSlider(\n",
    "    value=10,\n",
    "    min=2,\n",
    "    max=30,\n",
    "    step=1,\n",
    "    description='Chiffres:',\n",
    "    disabled=False,\n",
    "    continuous_update=False,\n",
    "    orientation='horizontal',\n",
    "    readout=True,\n",
    "    readout_format='d'\n",
    ")\n",
    "\n",
    "Nbr_mesures = IntSlider(\n",
    "    value=10,\n",
    "    min=2,\n",
    "    max=30,\n",
    "    step=1,\n",
    "    description='Mesures:',\n",
    "    disabled=False,\n",
    "    continuous_update=False,\n",
    "    orientation='horizontal',\n",
    "    readout=True,\n",
    "    readout_format='d'\n",
    ")\n",
    "\n",
    "flag = False\n",
    "\n",
    "def onclick(b):\n",
    "    global flag\n",
    "    flag = True\n",
    "    chrono()\n",
    "    \n",
    "def chrono():\n",
    "    global lout, flag, Nbr_chiffres, Nbr_mesures\n",
    "    taille = Nbr_chiffres.value\n",
    "    m = Nbr_mesures.value\n",
    "    lout.value = \"\"\n",
    "    lout.layout = Layout(width='100%', height='{}px'.format(50+20*m))\n",
    "    n = 100000\n",
    "    temps = []\n",
    "    if flag:\n",
    "        lout.value += \"mesures (moyenne sur 10000 multiplications)\\n\"\n",
    "        for i in range(m):\n",
    "            L1 = np.array( [random.randint(10**taille,10**(taille+1)-1) for i in range(n)] )\n",
    "            L2 = np.array( [random.randint(10**taille,10**(taille+1)-1) for i in range(n)] )\n",
    "            L3 = np.zeros((n,) )\n",
    "            t = time.time()\n",
    "            L3=L1*L2\n",
    "            temps.append((time.time()-t)*1e9/n)\n",
    "            lout.value += \"{:.2f} ns\\n\".format(temps[-1])\n",
    "        lout.value += \"durée moyenne d'une multiplication de deux nombres à {} chiffres en utilisant 1 seul core: {:.2f} ns\".format(taille,sum(temps)/m)\n",
    "        flag = False\n",
    "button = Button(description=\"RUN TEST\")\n",
    "display(Nbr_chiffres)\n",
    "display(Nbr_mesures)\n",
    "display(button)\n",
    "display(lout)\n",
    "button.on_click(onclick)"
   ]
  }
 ],
 "metadata": {
  "kernelspec": {
   "display_name": "Python 3",
   "language": "python",
   "name": "python3"
  },
  "language_info": {
   "codemirror_mode": {
    "name": "ipython",
    "version": 3
   },
   "file_extension": ".py",
   "mimetype": "text/x-python",
   "name": "python",
   "nbconvert_exporter": "python",
   "pygments_lexer": "ipython3",
   "version": "3.7.4"
  }
 },
 "nbformat": 4,
 "nbformat_minor": 2
}
