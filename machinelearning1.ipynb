{
 "cells": [
  {
   "cell_type": "markdown",
   "metadata": {},
   "source": [
    "# <span style=\"color: #FF0000\">Présentation des données utilisées</span>\n",
    "<br>\n",
    "Mise en mémoire des données du dataset MNIST"
   ]
  },
  {
   "cell_type": "code",
   "execution_count": 1,
   "metadata": {},
   "outputs": [],
   "source": [
    "import numpy as np\n",
    "import matplotlib.pyplot as plt\n",
    "from sklearn.datasets import fetch_openml\n",
    "from ipywidgets import interact, widgets\n",
    "import matplotlib.animation as animation\n",
    "from sklearn.model_selection import train_test_split\n",
    "from sklearn import neighbors\n",
    "from random import randint"
   ]
  },
  {
   "cell_type": "code",
   "execution_count": 3,
   "metadata": {},
   "outputs": [],
   "source": [
    "X, y = fetch_openml('mnist_784', version=1, return_X_y=True)"
   ]
  },
  {
   "cell_type": "markdown",
   "metadata": {},
   "source": [
    "<br>\n",
    "Taille des données:\n",
    "jeu d'images: 70000 éléments, taille des images: 28x28 = 784"
   ]
  },
  {
   "cell_type": "code",
   "execution_count": 4,
   "metadata": {},
   "outputs": [
    {
     "data": {
      "text/plain": [
       "(70000, 784)"
      ]
     },
     "execution_count": 4,
     "metadata": {},
     "output_type": "execute_result"
    }
   ],
   "source": [
    "X.shape"
   ]
  },
  {
   "cell_type": "markdown",
   "metadata": {},
   "source": [
    "Et la liste des chiffres associés: 70000 éléments"
   ]
  },
  {
   "cell_type": "code",
   "execution_count": 5,
   "metadata": {},
   "outputs": [
    {
     "data": {
      "text/plain": [
       "(70000,)"
      ]
     },
     "execution_count": 5,
     "metadata": {},
     "output_type": "execute_result"
    }
   ],
   "source": [
    "y.shape"
   ]
  },
  {
   "cell_type": "markdown",
   "metadata": {},
   "source": [
    "<br>\n",
    "<br>\n",
    "Changement de la forme des données pour l'affichage des images:\n",
    "on passe de 784 valeurs par images à une répartition en 28x28 pour pouvoir afficher les images"
   ]
  },
  {
   "cell_type": "code",
   "execution_count": 6,
   "metadata": {},
   "outputs": [],
   "source": [
    "images = X.reshape((-1, 28, 28))"
   ]
  },
  {
   "cell_type": "code",
   "execution_count": 7,
   "metadata": {},
   "outputs": [
    {
     "data": {
      "text/plain": [
       "(70000, 28, 28)"
      ]
     },
     "execution_count": 7,
     "metadata": {},
     "output_type": "execute_result"
    }
   ],
   "source": [
    "images.shape"
   ]
  },
  {
   "cell_type": "markdown",
   "metadata": {},
   "source": [
    " "
   ]
  },
  {
   "cell_type": "markdown",
   "metadata": {},
   "source": [
    "<br>\n",
    "Affichage d'un exemple pour chacun des chiffres, image et chiffre associé:"
   ]
  },
  {
   "cell_type": "code",
   "execution_count": 8,
   "metadata": {},
   "outputs": [
    {
     "data": {
      "image/png": "[encoded data removed]",
      "text/plain": [
       "<Figure size 432x288 with 10 Axes>"
      ]
     },
     "metadata": {
      "needs_background": "light"
     },
     "output_type": "display_data"
    }
   ],
   "source": [
    "fig1 = plt.figure(\"Figure 1\")\n",
    "n = 0\n",
    "ax1 = []\n",
    "for i in range(10):\n",
    "    while int(y[n])!=i:\n",
    "        n+=1\n",
    "    ax1.append(fig1.add_subplot(2,5,i+1))\n",
    "    ax1[-1].set_title(y[n])\n",
    "    ax1[-1].imshow(images[n],cmap=plt.cm.gray_r,interpolation=\"nearest\")\n",
    "    ax1[-1].axis(\"off\")\n",
    "#fig1.show()\n",
    "plt.show()"
   ]
  },
  {
   "cell_type": "markdown",
   "metadata": {},
   "source": [
    " "
   ]
  },
  {
   "cell_type": "markdown",
   "metadata": {},
   "source": [
    "Affichage de plusieurs images représentant un même chiffre. On voit bien les disparités d'une image à l'autre."
   ]
  },
  {
   "cell_type": "code",
   "execution_count": 31,
   "metadata": {},
   "outputs": [
    {
     "data": {
      "image/png": "[encoded data removed]",
      "text/plain": [
       "<Figure size 432x288 with 25 Axes>"
      ]
     },
     "metadata": {
      "needs_background": "light"
     },
     "output_type": "display_data"
    }
   ],
   "source": [
    "fig2=plt.figure(\"Figure 2\")\n",
    "ax2 = []\n",
    "for i in range(1,26):\n",
    "    ax2.append(fig2.add_subplot(5,5,i))\n",
    "#fig2.show()\n",
    "    \n",
    "def anime(j):\n",
    "    m = j%10\n",
    "    \n",
    "    n = 0\n",
    "    for i in range(25):\n",
    "        while n<len(y) and int(y[n])!=m:\n",
    "            n+=1\n",
    "        if n>=len(y):\n",
    "            break\n",
    "   # plt.title(y[n])\n",
    "        ax2[i].imshow(images[n],cmap=plt.cm.gray_r,interpolation=\"nearest\")\n",
    "        ax2[i].axis('off')\n",
    "        n+=1\n",
    "    n = 0\n",
    "    plt.show()\n",
    "   \n",
    "    \n",
    "anime(randint(0,9))\n",
    "#simulation=animation.FuncAnimation(fig2,anime,interval=1000)"
   ]
  }
 ],
 "metadata": {
  "kernelspec": {
   "display_name": "Python 3",
   "language": "python",
   "name": "python3"
  },
  "language_info": {
   "codemirror_mode": {
    "name": "ipython",
    "version": 3
   },
   "file_extension": ".py",
   "mimetype": "text/x-python",
   "name": "python",
   "nbconvert_exporter": "python",
   "pygments_lexer": "ipython3",
   "version": "3.7.4"
  }
 },
 "nbformat": 4,
 "nbformat_minor": 2
}
