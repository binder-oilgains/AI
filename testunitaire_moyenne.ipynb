{
 "cells": [
  {
   "cell_type": "code",
   "execution_count": 1,
   "metadata": {},
   "outputs": [],
   "source": [
    "from ipywidgets import Button, Textarea, Layout\n",
    "from IPython.display import display\n",
    "import ipytest\n",
    "from IPython.utils.capture import capture_output"
   ]
  },
  {
   "cell_type": "code",
   "execution_count": 2,
   "metadata": {},
   "outputs": [],
   "source": [
    "#!pip install --user ipython_unittest #a ajouter dans requirements avec ipytest"
   ]
  },
  {
   "cell_type": "code",
   "execution_count": 3,
   "metadata": {},
   "outputs": [],
   "source": [
    "%load_ext ipython_unittest\n",
    "ipytest.config(rewrite_asserts=True, magics=True)\n",
    "__file__ = \"testunitaire_moyenne.ipynb\""
   ]
  },
  {
   "cell_type": "markdown",
   "metadata": {},
   "source": [
    "# <span style=\"color: #FF0000\">Partie I - Fonction \"moyenne\"</span>\n",
    "### Fonction de calcul de moyenne à tester\n",
    "\n",
    "```python\n",
    "def moyenne(liste):\n",
    "    reponse = 0\n",
    "    for val in liste:\n",
    "        reponse += val\n",
    "    return reponse / len(liste)\n",
    "    ```\n",
    "    "
   ]
  },
  {
   "cell_type": "code",
   "execution_count": 4,
   "metadata": {},
   "outputs": [],
   "source": [
    "def moyenne(liste):\n",
    "    reponse = 0\n",
    "    for val in liste:\n",
    "        reponse += val\n",
    "    return reponse / len(liste)"
   ]
  },
  {
   "cell_type": "markdown",
   "metadata": {},
   "source": [
    "\n",
    "### Definition d'un test unitaire\n",
    "Les tests unitaires sont des tests très simples permettant de vérifier le comportement d'une fonction.\n",
    "Par exemple, on vérifie ici que moyenne(\\[1,2,3\\]) renvoie bien 2.0\n",
    "```python\n",
    "def test_moy():\n",
    "    assert moyenne([1,2,3]) == 2.0\n",
    "```\n",
    "Ils sont écrits sous la forme d'une fonction dont le nom commence par \"test_\" comportant le mot clé \"assert\""
   ]
  },
  {
   "cell_type": "code",
   "execution_count": 5,
   "metadata": {},
   "outputs": [],
   "source": [
    "ipytest.clean_tests()\n",
    "\n",
    "def test_moy():\n",
    "    assert moyenne([1,2,3]) == 2.0"
   ]
  },
  {
   "cell_type": "markdown",
   "metadata": {},
   "source": [
    "\n",
    "### Execution du test unitaire sur la fonction moyenne\n",
    "On importe le module de test\n",
    "```python\n",
    "import ipytest\n",
    "```\n",
    "Puis on exécute les tests avec la commande\n",
    "```python\n",
    "ipytest.run('-qq')\n",
    "```\n",
    "### Sortie"
   ]
  },
  {
   "cell_type": "code",
   "execution_count": 6,
   "metadata": {},
   "outputs": [
    {
     "name": "stdout",
     "output_type": "stream",
     "text": [
      ".                                                                                                                                                                                                    [100%]\n"
     ]
    }
   ],
   "source": [
    "ipytest.run('-qq')"
   ]
  },
  {
   "cell_type": "markdown",
   "metadata": {},
   "source": [
    "### Suite\n",
    "On peut réinitialiser les tests en mémoire avec \n",
    "```python\n",
    "ipytest.clean_test()\n",
    "```\n",
    "avant d'en charger de nouveaux. \n",
    "La sortie affiche un \".\" pour un test réussi et un \"F\" avec des explications lorsqu'un test est échoué.\n",
    "par exemple, on peut essayer:\n",
    "```python\n",
    "ipytest.clean_tests()\n",
    "\n",
    "def test_moy1():\n",
    "    assert moyenne([1,2,3]) == 2.0\n",
    "    \n",
    "def test_moy2():\n",
    "    assert moyenne([1,2,3]) == 3.0\n",
    "    \n",
    "ipytest.run('-qq')\n",
    "```\n",
    "### Sortie"
   ]
  },
  {
   "cell_type": "code",
   "execution_count": 7,
   "metadata": {},
   "outputs": [
    {
     "name": "stdout",
     "output_type": "stream",
     "text": [
      ".F                                                                                                                                                                                                   [100%]\n",
      "================================================================================================= FAILURES =================================================================================================\n",
      "________________________________________________________________________________________________ test_moy2 _________________________________________________________________________________________________\n",
      "\n",
      "    def test_moy2():\n",
      ">       assert moyenne([1,2,3]) == 3.0\n",
      "E       assert 2.0 == 3.0\n",
      "E        +  where 2.0 = moyenne([1, 2, 3])\n",
      "\n",
      "<ipython-input-7-f1fcfa0b91aa>:7: AssertionError\n"
     ]
    }
   ],
   "source": [
    "ipytest.clean_tests()\n",
    "\n",
    "def test_moy1():\n",
    "    assert moyenne([1,2,3]) == 2.0\n",
    "\n",
    "def test_moy2():\n",
    "    assert moyenne([1,2,3]) == 3.0\n",
    "\n",
    "ipytest.run('-qq')\n",
    "\n"
   ]
  },
  {
   "cell_type": "markdown",
   "metadata": {},
   "source": [
    "## Modifier les tests unitaires\n",
    "Modifiez ci-dessous les tests unitaires pour la fonction moyenne afin de bien comprendre le principe"
   ]
  },
  {
   "cell_type": "code",
   "execution_count": 8,
   "metadata": {},
   "outputs": [
    {
     "data": {
      "application/vnd.jupyter.widget-view+json": {
       "model_id": "6f11fdfeb5574dcfa3ef5100f2c1ae51",
       "version_major": 2,
       "version_minor": 0
      },
      "text/plain": [
       "Textarea(value='def test_moy1():\\n    assert moyenne([1,2,3]) == 2.\\n    \\ndef test_moy2():\\n    assert moyenn…"
      ]
     },
     "metadata": {},
     "output_type": "display_data"
    },
    {
     "data": {
      "application/vnd.jupyter.widget-view+json": {
       "model_id": "7cee8d17fb864c52a6a3e38f0bcab478",
       "version_major": 2,
       "version_minor": 0
      },
      "text/plain": [
       "Button(description='RUN TESTS', style=ButtonStyle())"
      ]
     },
     "metadata": {},
     "output_type": "display_data"
    },
    {
     "data": {
      "application/vnd.jupyter.widget-view+json": {
       "model_id": "f91bf79e736347cb922943c906b28eab",
       "version_major": 2,
       "version_minor": 0
      },
      "text/plain": [
       "Textarea(value=' ', description='Out', disabled=True, layout=Layout(height='500px', width='100%'), placeholder…"
      ]
     },
     "metadata": {},
     "output_type": "display_data"
    }
   ],
   "source": [
    "l =     Textarea(\n",
    "    value=\"\"\"def test_moy1():\n",
    "    assert moyenne([1,2,3]) == 2.\n",
    "    \n",
    "def test_moy2():\n",
    "    assert moyenne([1,2,3]) != 3.\"\"\",\n",
    "    placeholder='Type something',\n",
    "    description='In',\n",
    "    disabled=False,\n",
    "    layout=Layout(width='100%', height='150px')\n",
    ")\n",
    "lout =     Textarea(\n",
    "    value=\" \",\n",
    "    placeholder=' ',\n",
    "    description='Out',\n",
    "    disabled=True,\n",
    "    layout=Layout(width='100%', height='500px')\n",
    ")\n",
    "button = Button(description=\"RUN TESTS\")\n",
    "\n",
    "\n",
    "display(l)\n",
    "display(button)\n",
    "display(lout)\n",
    "\n",
    "def onclick(b=None):\n",
    "    f= open(\"testu.py\",\"w\")\n",
    "    f.write(\"\"\"import ipytest\n",
    "\n",
    "ipytest.config(rewrite_asserts=True, magics=True)\n",
    "__file__ = \"testunitaire_moyenne.ipynb\"\n",
    "ipytest.clean_tests()\n",
    "\n",
    "def moyenne(liste):\n",
    "    reponse = 0\n",
    "    for val in liste:\n",
    "        reponse += val\n",
    "    return reponse / len(liste)\n",
    "\n",
    "{}\n",
    "    \n",
    "ipytest.run('-qq')\"\"\".format(l.value))\n",
    "    f.close()\n",
    "    with capture_output() as c:\n",
    "        %run testu.py\n",
    "    #c()\n",
    "    lout.value=c.stdout\n",
    "button.on_click(onclick)"
   ]
  }
 ],
 "metadata": {
  "kernelspec": {
   "display_name": "Python 3",
   "language": "python",
   "name": "python3"
  },
  "language_info": {
   "codemirror_mode": {
    "name": "ipython",
    "version": 3
   },
   "file_extension": ".py",
   "mimetype": "text/x-python",
   "name": "python",
   "nbconvert_exporter": "python",
   "pygments_lexer": "ipython3",
   "version": "3.7.4"
  }
 },
 "nbformat": 4,
 "nbformat_minor": 2
}
