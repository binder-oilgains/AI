{
 "cells": [
  {
   "cell_type": "code",
   "execution_count": 1,
   "metadata": {},
   "outputs": [],
   "source": [
    "from ipywidgets import Button, Textarea, Layout\n",
    "from IPython.display import display\n",
    "import ipytest\n",
    "from IPython.utils.capture import capture_output"
   ]
  },
  {
   "cell_type": "code",
   "execution_count": 2,
   "metadata": {},
   "outputs": [],
   "source": [
    "#!pip install --user ipython_unittest #a ajouter dans requirements avec ipytest"
   ]
  },
  {
   "cell_type": "code",
   "execution_count": 3,
   "metadata": {},
   "outputs": [],
   "source": [
    "%load_ext ipython_unittest\n",
    "ipytest.config(rewrite_asserts=True, magics=True)\n",
    "__file__ = \"testunitaire_bonjour.ipynb\""
   ]
  },
  {
   "cell_type": "markdown",
   "metadata": {},
   "source": [
    "<p><br>\n",
    "<br>\n",
    "</p>\n",
    "\n",
    "\n",
    "# <span style=\"color: #FF0000\">Partie III - Fonction \"bonjour\"</span>\n",
    "\n",
    "### Fonction bonjour à tester\n",
    "```python\n",
    "def bonjour(n):\n",
    "    \"\"\"renvoie une liste contenant n fois la\n",
    "    chaine de caracteres \"bonjour\" \n",
    "    \"\"\"\n",
    "    \n",
    "    if n<0:\n",
    "        return None\n",
    "    elif n==0:\n",
    "        return []\n",
    "    else:\n",
    "        reponse = []\n",
    "        for i in range(1,n):\n",
    "            reponse.append(\"bonjour\")\n",
    "        return reponse\n",
    "```"
   ]
  },
  {
   "cell_type": "code",
   "execution_count": 4,
   "metadata": {},
   "outputs": [],
   "source": [
    "def bonjour(n):\n",
    "    \"\"\"renvoie une liste contenant n fois la\n",
    "    chaine de caracteres \"bonjour\" \n",
    "    \"\"\"\n",
    "    \n",
    "    if n<0:\n",
    "        return None\n",
    "    elif n==0:\n",
    "        return []\n",
    "    else:\n",
    "        reponse = []\n",
    "        for i in range(1,n):\n",
    "            reponse.append(\"bonjour\")\n",
    "        return reponse"
   ]
  },
  {
   "cell_type": "markdown",
   "metadata": {},
   "source": [
    "\n",
    "### Definition des tests unitaires\n",
    "```python\n",
    "def test_n_negatif():\n",
    "    assert bonjour(-1) is None\n",
    "    \n",
    "def test_type_n_nul():\n",
    "    assert type(bonjour(0)) == list\n",
    "        \n",
    "def test_valeur_n_nul():\n",
    "    assert bonjour(0) == []\n",
    "        \n",
    "def test_type_n_positif():\n",
    "    assert type(bonjour(5)) == list\n",
    "        \n",
    "def test_element_n_positif():\n",
    "    assert bonjour(5)[0] == \"bonjour\"\n",
    "        \n",
    "def test_valeur_n_positif():\n",
    "    assert bonjour(5) == [\"bonjour\",\"bonjour\",\"bonjour\",\"bonjour\",\"bonjour\"]\n",
    "```"
   ]
  },
  {
   "cell_type": "code",
   "execution_count": 5,
   "metadata": {},
   "outputs": [],
   "source": [
    "ipytest.clean_tests()\n",
    "\n",
    "def test_n_negatif():\n",
    "    assert bonjour(-1) is None\n",
    "    \n",
    "def test_type_n_nul():\n",
    "    assert type(bonjour(0)) == list\n",
    "        \n",
    "def test_valeur_n_nul():\n",
    "    assert bonjour(0) == []\n",
    "        \n",
    "def test_type_n_positif():\n",
    "    assert type(bonjour(5)) == list\n",
    "        \n",
    "def test_element_n_positif():\n",
    "    assert bonjour(5)[0] == \"bonjour\"\n",
    "        \n",
    "def test_valeur_n_positif():\n",
    "    assert bonjour(5) == [\"bonjour\",\"bonjour\",\"bonjour\",\"bonjour\",\"bonjour\"]\n"
   ]
  },
  {
   "cell_type": "markdown",
   "metadata": {},
   "source": [
    "\n",
    "### Execution des tests unitaires sur la fonction bonjour\n",
    "```python\n",
    "ipytest.run('-qq')\n",
    "```\n",
    "### Sortie"
   ]
  },
  {
   "cell_type": "code",
   "execution_count": 6,
   "metadata": {},
   "outputs": [
    {
     "name": "stdout",
     "output_type": "stream",
     "text": [
      ".....F                                                                                                                                                                                               [100%]\n",
      "================================================================================================= FAILURES =================================================================================================\n",
      "__________________________________________________________________________________________ test_valeur_n_positif ___________________________________________________________________________________________\n",
      "\n",
      "    def test_valeur_n_positif():\n",
      ">       assert bonjour(5) == [\"bonjour\",\"bonjour\",\"bonjour\",\"bonjour\",\"bonjour\"]\n",
      "E       AssertionError: assert ['bonjour', '...r', 'bonjour'] == ['bonjour', '...r', 'bonjour']\n",
      "E         Right contains one more item: 'bonjour'\n",
      "E         Full diff:\n",
      "E         - ['bonjour', 'bonjour', 'bonjour', 'bonjour']\n",
      "E         + ['bonjour', 'bonjour', 'bonjour', 'bonjour', 'bonjour']\n",
      "E         ?                                   +++++++++++\n",
      "\n",
      "<ipython-input-5-19095866b723>:19: AssertionError\n"
     ]
    }
   ],
   "source": [
    "ipytest.run('-qq')"
   ]
  },
  {
   "cell_type": "markdown",
   "metadata": {},
   "source": [
    "### Debogage\n",
    "D'après la sortie de ces tests, modifiez la fonction \"bonjour\" ci-dessous pour qu'elle passe tous les tests"
   ]
  },
  {
   "cell_type": "markdown",
   "metadata": {},
   "source": [
    "**Aide 1**"
   ]
  },
  {
   "cell_type": "markdown",
   "metadata": {
    "solution2": "hidden",
    "solution2_first": true
   },
   "source": [
    " "
   ]
  },
  {
   "cell_type": "markdown",
   "metadata": {
    "solution2": "hidden"
   },
   "source": [
    "Il y a une erreur dans le cas ou n est positif uniquement, il faut donc se concentrer sur les lignes en dessous du **else**"
   ]
  },
  {
   "cell_type": "markdown",
   "metadata": {},
   "source": [
    "**Aide 2**"
   ]
  },
  {
   "cell_type": "markdown",
   "metadata": {
    "solution2": "hidden",
    "solution2_first": true
   },
   "source": [
    " "
   ]
  },
  {
   "cell_type": "markdown",
   "metadata": {
    "solution2": "hidden"
   },
   "source": [
    "Il manque un élément à la liste, on peut donc corriger ce comportement en modifiant les bornes dans le **range**"
   ]
  },
  {
   "cell_type": "code",
   "execution_count": 7,
   "metadata": {
    "solution2": "hidden",
    "solution2_first": true
   },
   "outputs": [
    {
     "data": {
      "application/vnd.jupyter.widget-view+json": {
       "model_id": "6ff984ecf94c4751abd827d0c33cd87a",
       "version_major": 2,
       "version_minor": 0
      },
      "text/plain": [
       "Textarea(value='def bonjour(n):\\n    \"\"\"\\n    renvoie une liste contenant n fois la\\n    chaine de caracteres …"
      ]
     },
     "metadata": {},
     "output_type": "display_data"
    },
    {
     "data": {
      "application/vnd.jupyter.widget-view+json": {
       "model_id": "3ada1c37b3a64a88bd131dcd7994ae86",
       "version_major": 2,
       "version_minor": 0
      },
      "text/plain": [
       "Button(description='RUN TESTS', style=ButtonStyle())"
      ]
     },
     "metadata": {},
     "output_type": "display_data"
    },
    {
     "data": {
      "application/vnd.jupyter.widget-view+json": {
       "model_id": "3b456f424a4942fa8f44d371dd291cf2",
       "version_major": 2,
       "version_minor": 0
      },
      "text/plain": [
       "Textarea(value=' ', description='Out', disabled=True, layout=Layout(height='300px', width='95%'), placeholder=…"
      ]
     },
     "metadata": {},
     "output_type": "display_data"
    }
   ],
   "source": [
    "lin3 =     Textarea(\n",
    "    value=\"\"\"def bonjour(n):\n",
    "    \\\"\\\"\\\"\n",
    "    renvoie une liste contenant n fois la\n",
    "    chaine de caracteres \"bonjour\" \n",
    "    \\\"\\\"\\\"\n",
    "    \n",
    "    if n<0:\n",
    "        return None\n",
    "    elif n==0:\n",
    "        return []\n",
    "    else:\n",
    "        reponse = []\n",
    "        for i in range(1,n):\n",
    "            reponse.append(\"bonjour\")\n",
    "        return reponse\"\"\",\n",
    "    placeholder='Type something',\n",
    "    description='In',\n",
    "    disabled=False,\n",
    "    layout=Layout(width='95%', height='350px')\n",
    ")\n",
    "lout3 =     Textarea(\n",
    "    value=\" \",\n",
    "    placeholder=' ',\n",
    "    description='Out',\n",
    "    disabled=True,\n",
    "    layout=Layout(width='95%', height='300px')\n",
    ")\n",
    "button3 = Button(description=\"RUN TESTS\")\n",
    "\n",
    "\n",
    "display(lin3)\n",
    "display(button3)\n",
    "display(lout3)\n",
    "\n",
    "def onclick3(b=None):\n",
    "    f= open(\"testu3.py\",\"w\")\n",
    "    f.write(\"\"\"import ipytest\n",
    "\n",
    "ipytest.config(rewrite_asserts=True, magics=True)\n",
    "__file__ = \"testunitaire_bonjour.ipynb\"\n",
    "ipytest.clean_tests()\n",
    "\n",
    "{}\n",
    "\n",
    "def test_n_negatif():\n",
    "    assert bonjour(-1) is None\n",
    "    \n",
    "def test_type_n_nul():\n",
    "    assert type(bonjour(0)) == list\n",
    "        \n",
    "def test_valeur_n_nul():\n",
    "    assert bonjour(0) == []\n",
    "        \n",
    "def test_type_n_positif():\n",
    "    assert type(bonjour(5)) == list\n",
    "        \n",
    "def test_element_n_positif():\n",
    "    assert bonjour(5)[0] == \"bonjour\"\n",
    "        \n",
    "def test_valeur_n_positif():\n",
    "    assert bonjour(5) == [\"bonjour\",\"bonjour\",\"bonjour\",\"bonjour\",\"bonjour\"]\n",
    "    \n",
    "ipytest.run('-qq')\"\"\".format(lin3.value))\n",
    "    f.close()\n",
    "    with capture_output() as c:\n",
    "        %run testu3.py\n",
    "    #c()\n",
    "    lout3.value=c.stdout\n",
    "button3.on_click(onclick3)"
   ]
  },
  {
   "cell_type": "markdown",
   "metadata": {
    "solution2": "hidden"
   },
   "source": [
    "On peut corriger le comportement en faisant un cran  de plus dans la boucle (on change le n en n+1). On a donc n tours de boucle pour i allant de 1 à n (n+1 est exclu)\n",
    "```python\n",
    "def bonjour(n):\n",
    "    \"\"\"\n",
    "    renvoie une liste contenant n fois la\n",
    "    chaine de caracteres \"bonjour\" \n",
    "    \"\"\"\n",
    "    \n",
    "    if n<0:\n",
    "        return None\n",
    "    elif n==0:\n",
    "        return []\n",
    "    else:\n",
    "        reponse = []\n",
    "        for i in range(1, n+1):\n",
    "            reponse.append(\"bonjour\")\n",
    "        return reponse\n",
    "```\n",
    "\n",
    "\n",
    "On peut aussi corriger le comportement en démarrant un cran plus tôt dans la boucle (on change le 1 en 0). On a donc n tours de boucle pour i allant de 0 à n-1 (n est exclu)\n",
    "```python\n",
    "def bonjour(n):\n",
    "    \"\"\"\n",
    "    renvoie une liste contenant n fois la\n",
    "    chaine de caracteres \"bonjour\" \n",
    "    \"\"\"\n",
    "    \n",
    "    if n<0:\n",
    "        return None\n",
    "    elif n==0:\n",
    "        return []\n",
    "    else:\n",
    "        reponse = []\n",
    "        for i in range(0, n):\n",
    "            reponse.append(\"bonjour\")\n",
    "        return reponse\n",
    "```\n",
    "\n",
    "On peut enfin corriger le comportement en initialisant la réponse avec un élément car c'est la taille minimale pour cette branche du programme. On a un élément puis on fait n-1 tours de boucle.\n",
    "```python\n",
    "def bonjour(n):\n",
    "    \"\"\"\n",
    "    renvoie une liste contenant n fois la\n",
    "    chaine de caracteres \"bonjour\" \n",
    "    \"\"\"\n",
    "    \n",
    "    if n<0:\n",
    "        return None\n",
    "    elif n==0:\n",
    "        return []\n",
    "    else:\n",
    "        reponse = [\"bonjour\"]\n",
    "        for i in range(0, n):\n",
    "            reponse.append(\"bonjour\")\n",
    "        return reponse\n",
    "```"
   ]
  }
 ],
 "metadata": {
  "kernelspec": {
   "display_name": "Python 3",
   "language": "python",
   "name": "python3"
  },
  "language_info": {
   "codemirror_mode": {
    "name": "ipython",
    "version": 3
   },
   "file_extension": ".py",
   "mimetype": "text/x-python",
   "name": "python",
   "nbconvert_exporter": "python",
   "pygments_lexer": "ipython3",
   "version": "3.7.4"
  }
 },
 "nbformat": 4,
 "nbformat_minor": 2
}
