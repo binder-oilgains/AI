{
 "cells": [
  {
   "cell_type": "markdown",
   "metadata": {},
   "source": [
    "# <span style=\"color: #FF0000\">Notion de Vrai positif, Vrai négatif, Faux positif et Faux négatif et calculs statistiques</span>"
   ]
  },
  {
   "cell_type": "code",
   "execution_count": 1,
   "metadata": {},
   "outputs": [],
   "source": [
    "from ipywidgets import IntProgress, IntSlider, Dropdown, HTMLMath, interact, widgets, Image, HBox"
   ]
  },
  {
   "cell_type": "markdown",
   "metadata": {},
   "source": [
    "### On fait tourner l'algorithme précédent pour avoir le modèle puis on calcule les fréquences des différents événements"
   ]
  },
  {
   "cell_type": "markdown",
   "metadata": {},
   "source": [
    "### On cherche maintenant à savoir si un chiffre est un trois ou pas. Il y a donc deux réponses possibles au test, OUI ou NON. ###"
   ]
  },
  {
   "cell_type": "code",
   "execution_count": 6,
   "metadata": {},
   "outputs": [],
   "source": [
    "valeurs = [('6000',0),('3000',1),('2000',2),('1500',3)]\n",
    "\n",
    "#Données obtenues en faisant tourner le modèle pour différentes tailles d'échantillon (6000, 3000, 2000 et 1500)\n",
    "VP = [9.67, 8.67, 10.25, 11.0]\n",
    "VN = [89.25, 90.00, 88.25, 87.00]\n",
    "FN = [0.58, 0.67, 0.50, 0.67]\n",
    "FP = [0.50, 0.67, 1.00, 1.33]\n",
    "\n",
    "pBA = [94.31, 92.86, 95.35, 94.29]\n",
    "pA = [10.25, 9.33, 10.75, 11.67]\n",
    "pB = [10.17, 9.33, 11.25, 12.33]"
   ]
  },
  {
   "cell_type": "markdown",
   "metadata": {},
   "source": [
    "ici A est la proposition \"le chiffre est un trois\"\n",
    "\n",
    "\n",
    "et B est la proposition \"un trois est prévu par le modèle\"\n",
    "\n",
    "\n",
    "La proposition **Vrai positif** correspond à \"un trois est prévu\" (test positif) et \"le chiffre est un trois\" (prédiction conforme avec la réalité donc Vrai). Il s'agit donc de $A \\cap B$\n",
    "\n",
    "\n",
    "La proposition **Vrai négatif** correspond \"un autre chiffre est prévu\" (test négatif) et \"le chiffre n'est pas un trois\" (prédiction conforme avec la réalité donc Vrai). Il s'agit de $\\overline{A} \\cap \\overline{B}$\n",
    "\n",
    "\n",
    "La proposition **Faux positif** correspond à \"un trois est prévu\" (test positif) et \"le chiffre n'est pas un trois\" (prédiction non conforme avec la réalité donc Faux). Il s'agit donc de $\\overline{A} \\cap B$\n",
    "\n",
    "\n",
    "La proposition **Faux négatif** correspond \"un autre chiffre est prévu\" (test négatif) et \"le chiffre est un trois\" (prédiction non conforme avec la réalité donc Faux). Il s'agit de $A \\cap \\overline{B}$\n",
    "\n",
    "\n"
   ]
  },
  {
   "cell_type": "markdown",
   "metadata": {
    "solution2": "hidden",
    "solution2_first": true
   },
   "source": [
    " "
   ]
  },
  {
   "cell_type": "markdown",
   "metadata": {
    "solution2": "hidden"
   },
   "source": [
    "```python\n",
    "#liste de booléens. La valeur est True lorsque l'élément de ytest est un 3\n",
    "estuntrois = (ytest == np.array(['3']*len(ytest)))\n",
    "\n",
    "#liste de booléens. La valeur est True lorsque l'élément de ytest est différent de 3\n",
    "nestpasuntrois = (ytest != np.array(['3']*len(ytest)))\n",
    "\n",
    "#liste de booléens. La valeur est True lorsque la valeur prédite par le modèle est un 3\n",
    "estprevutrois = (predicted == np.array(['3']*len(predicted)))\n",
    "\n",
    "#extraction des éléments lorsque estprevutrois est True\n",
    "predictedtrois = predicted[estprevutrois]\n",
    "\n",
    "#extractions (idem)\n",
    "ytest3 = ytest[estuntrois]\n",
    "ytestautre = ytest[nestpasuntrois]\n",
    "predicted3 = predicted[estuntrois]\n",
    "predictedautre = predicted[nestpasuntrois]\n",
    "\n",
    "#Extraction des images de trois et d'autre\n",
    "images3 = xtest.reshape((-1, 28, 28))[estuntrois,:,:]\n",
    "imagesautre = xtest.reshape((-1, 28, 28))[nestpasuntrois,:,:]\n",
    "\n",
    "#Liste de booléens, on croise prévision et valeur réelle dans l'ensemble \"est un trois\"\n",
    "vraipositif = (ytest3 == predicted3)\n",
    "#Extraction (images et valeurs prédites par le modèle)\n",
    "vraipositif_images = images3[vraipositif,:,:]\n",
    "vraipositif_predicted = predicted3[vraipositif]\n",
    "\n",
    "#Liste de booléens\n",
    "vrainegatif = (predictedautre != np.array(['3']*len(predictedautre)))\n",
    "#Extractions (images et valeurs prédites par le modèle)\n",
    "vrainegatif_images = imagesautre[vrainegatif,:,:]\n",
    "vrainegatif_predicted = predictedautre[vrainegatif]\n",
    "\n",
    "#Liste de booléens\n",
    "#vraipositif est dans l'ensemble \"est un trois\". Elle est à \"False\" si la valeur et la prévision sont différentes\n",
    "#C'est à dire lorsque c'est un trois et qu'un autre chiffre est prévu. C'est un faux négatif.\n",
    "fauxnegatif = (vraipositif == np.array([False]*len(vraipositif)) )\n",
    "#Extractions (images et valeurs prédites par le modèle)\n",
    "fauxnegatif_images = images3[fauxnegatif,:,:]\n",
    "fauxnegatif_predicted = predicted3[fauxnegatif]\n",
    "\n",
    "#Liste de booléens\n",
    "#predictedautre est dans l'ensemble \"n'est pas un trois\". C'est une liste de valeurs prédites par le modèle.\n",
    "#Lorsque cette valeur est \"3\", le test est positif bien que le chiffre ne soit pas un 3 en réalité.\n",
    "#C'est un faux positif.\n",
    "fauxpositif = ( predictedautre == np.array(['3']*len(predictedautre)) )\n",
    "fauxpositif_images = imagesautre[fauxpositif,:,:]\n",
    "fauxpositif_predicted = predictedautre[fauxpositif]\n",
    "\n",
    "print(\"Vrai positif: {:.2f} %\".format(100*len(vraipositif_predicted)/len(ytest)))\n",
    "print(\"Vrai negatif: {:.2f} %\".format(100*len(vrainegatif_predicted)/len(ytest)))\n",
    "print(\"Faux negatif: {:.2f} %\".format(100*len(fauxnegatif_predicted)/len(ytest)))\n",
    "print(\"Faux positif: {:.2f} %\".format(100*len(fauxpositif_predicted)/len(ytest)))\n",
    "print(\"\")\n",
    "print(\"Est un trois: {:.2f} %\".format(100*len(predicted3)/len(ytest)))\n",
    "print(\"Test positif: {:.2f} %\".format(100*len(predictedtrois)/len(ytest)))\n",
    "```"
   ]
  },
  {
   "cell_type": "markdown",
   "metadata": {
    "solution2": "hidden",
    "solution2_first": true
   },
   "source": [
    " "
   ]
  },
  {
   "cell_type": "markdown",
   "metadata": {
    "solution2": "hidden"
   },
   "source": [
    "```python\n",
    "# on affiche les images et les prédictions associées à ces images dans les 4 cas\n",
    "fig9 = plt.figure(\"Figure 9\")\n",
    "ax9=[]\n",
    "ax9.append(fig9.add_subplot(1,4,1))\n",
    "ax9[-1].axis('off')\n",
    "ax9[-1].imshow(vraipositif_images[0],cmap=plt.cm.gray_r,interpolation=\"nearest\")\n",
    "ax9[-1].set_title('Vrai positif:\\nPrévu 3: OUI\\nEgal à 3: OUI')\n",
    "ax9.append(fig9.add_subplot(1,4,2))\n",
    "ax9[-1].axis('off')\n",
    "ax9[-1].imshow(vrainegatif_images[0],cmap=plt.cm.gray_r,interpolation=\"nearest\")\n",
    "ax9[-1].set_title('Vrai negatif:\\nPrévu 3: NON\\nEgal à 3: NON')\n",
    "ax9.append(fig9.add_subplot(1,4,3))\n",
    "ax9[-1].axis('off')\n",
    "ax9[-1].imshow(fauxnegatif_images[0],cmap=plt.cm.gray_r,interpolation=\"nearest\")\n",
    "ax9[-1].set_title('Faux negatif\\nPrévu 3: NON\\nEgal à 3: OUI')\n",
    "ax9.append(fig9.add_subplot(1,4,4))\n",
    "ax9[-1].axis('off')\n",
    "ax9[-1].imshow(fauxpositif_images[0],cmap=plt.cm.gray_r,interpolation=\"nearest\")\n",
    "ax9[-1].set_title('Faux positif\\nPrévu 3: OUI\\nEgal à 3: NON')\n",
    "fig9.show()\n",
    "```"
   ]
  },
  {
   "cell_type": "code",
   "execution_count": 7,
   "metadata": {},
   "outputs": [
    {
     "data": {
      "application/vnd.jupyter.widget-view+json": {
       "model_id": "77fdf015f87f4b9abc80e56036796bd4",
       "version_major": 2,
       "version_minor": 0
      },
      "text/plain": [
       "HBox(children=(Image(value=b'\\x89PNG\\r\\n\\x1a\\n\\x00\\x00\\x00\\rIHDR\\x00\\x00\\x00\\xee\\x00\\x00\\x00\\xfb\\x08\\x06\\x00\\x…"
      ]
     },
     "metadata": {},
     "output_type": "display_data"
    },
    {
     "data": {
      "application/vnd.jupyter.widget-view+json": {
       "model_id": "a8d9c84fd59e42b58a99f0e29852c800",
       "version_major": 2,
       "version_minor": 0
      },
      "text/plain": [
       "HBox(children=(Image(value=b'\\x89PNG\\r\\n\\x1a\\n\\x00\\x00\\x00\\rIHDR\\x00\\x00\\x00\\xee\\x00\\x00\\x00\\xfb\\x08\\x06\\x00\\x…"
      ]
     },
     "metadata": {},
     "output_type": "display_data"
    },
    {
     "data": {
      "application/vnd.jupyter.widget-view+json": {
       "model_id": "0191a4e8607343eb8a935083c128f0e2",
       "version_major": 2,
       "version_minor": 0
      },
      "text/plain": [
       "Dropdown(description='Eléments:', options=(('6000', 0), ('3000', 1), ('2000', 2), ('1500', 3)), value=0)"
      ]
     },
     "metadata": {},
     "output_type": "display_data"
    },
    {
     "data": {
      "application/vnd.jupyter.widget-view+json": {
       "model_id": "197e28cd86bb4602806265e2c5615608",
       "version_major": 2,
       "version_minor": 0
      },
      "text/plain": [
       "HTMLMath(value='$p(A)$: 10.25 %', description=' ', placeholder=' ')"
      ]
     },
     "metadata": {},
     "output_type": "display_data"
    },
    {
     "data": {
      "application/vnd.jupyter.widget-view+json": {
       "model_id": "41060a965f3e4b4cb9dbbc43deece934",
       "version_major": 2,
       "version_minor": 0
      },
      "text/plain": [
       "HTMLMath(value='$p(\\\\overline{A})$: 89.75 %', description=' ', placeholder=' ')"
      ]
     },
     "metadata": {},
     "output_type": "display_data"
    },
    {
     "data": {
      "application/vnd.jupyter.widget-view+json": {
       "model_id": "05e69bd75ec344dd9ebe43d1a53ab92e",
       "version_major": 2,
       "version_minor": 0
      },
      "text/plain": [
       "HTMLMath(value='$p(B)$: 10.17 %', description=' ', placeholder=' ')"
      ]
     },
     "metadata": {},
     "output_type": "display_data"
    },
    {
     "data": {
      "application/vnd.jupyter.widget-view+json": {
       "model_id": "147b0b36c20e4b789ac1da43fc5c4630",
       "version_major": 2,
       "version_minor": 0
      },
      "text/plain": [
       "HTMLMath(value='$p(\\\\overline{B})$: 89.83 %', description=' ', placeholder=' ')"
      ]
     },
     "metadata": {},
     "output_type": "display_data"
    },
    {
     "data": {
      "application/vnd.jupyter.widget-view+json": {
       "model_id": "b17d0e4a1eb0415bbf07d80d9bc4ee93",
       "version_major": 2,
       "version_minor": 0
      },
      "text/plain": [
       "Image(value=b'\\x89PNG\\r\\n\\x1a\\n\\x00\\x00\\x00\\rIHDR\\x00\\x00\\x01v\\x00\\x00\\x00\\x96\\x08\\x06\\x00\\x00\\x00\\xcam\\xa3S\\x…"
      ]
     },
     "metadata": {},
     "output_type": "display_data"
    },
    {
     "data": {
      "application/vnd.jupyter.widget-view+json": {
       "model_id": "3c893d1757d646b182f70210586f6a18",
       "version_major": 2,
       "version_minor": 0
      },
      "text/plain": [
       "HTMLMath(value='Fréquence de Vrai Positif: 9.67 %', description=' ', placeholder=' ')"
      ]
     },
     "metadata": {},
     "output_type": "display_data"
    },
    {
     "data": {
      "application/vnd.jupyter.widget-view+json": {
       "model_id": "2551891b0287414a9f795ec3c193c447",
       "version_major": 2,
       "version_minor": 0
      },
      "text/plain": [
       "HTMLMath(value='Fréquence de Vrai Négatif: 89.25 %', description=' ', placeholder=' ')"
      ]
     },
     "metadata": {},
     "output_type": "display_data"
    },
    {
     "data": {
      "application/vnd.jupyter.widget-view+json": {
       "model_id": "77f15bea97dc458caf29b82ca1980e32",
       "version_major": 2,
       "version_minor": 0
      },
      "text/plain": [
       "HTMLMath(value='Fréquence de Faux Positif: 0.50 %', description=' ', placeholder=' ')"
      ]
     },
     "metadata": {},
     "output_type": "display_data"
    },
    {
     "data": {
      "application/vnd.jupyter.widget-view+json": {
       "model_id": "83de95d8a3a440f28b0cbd70ed816a9b",
       "version_major": 2,
       "version_minor": 0
      },
      "text/plain": [
       "HTMLMath(value='Fréquence de Faux Négatif: 0.58 %', description=' ', placeholder=' ')"
      ]
     },
     "metadata": {},
     "output_type": "display_data"
    }
   ],
   "source": [
    "indice = Dropdown(\n",
    "    options=valeurs,\n",
    "    value=0,\n",
    "    description=\"Eléments:\",\n",
    ")\n",
    "\n",
    "vraipositif = HTMLMath(\n",
    "    value=r\"Fréquence de Vrai Positif: {:.2f} %\".format(VP[0]),\n",
    "    placeholder=' ',\n",
    "    description=' ',\n",
    ")\n",
    "\n",
    "vrainegatif = HTMLMath(\n",
    "    value=r\"Fréquence de Vrai Négatif: {:.2f} %\".format(VN[0]),\n",
    "    placeholder=' ',\n",
    "    description=' ',\n",
    ")\n",
    "\n",
    "fauxnegatif = HTMLMath(\n",
    "    value=r\"Fréquence de Faux Négatif: {:.2f} %\".format(FN[0]),\n",
    "    placeholder=' ',\n",
    "    description=' ',\n",
    ")\n",
    "\n",
    "fauxpositif = HTMLMath(\n",
    "    value=r\"Fréquence de Faux Positif: {:.2f} %\".format(FP[0]),\n",
    "    placeholder=' ',\n",
    "    description=' ',\n",
    ")\n",
    "\n",
    "A = HTMLMath(\n",
    "    value=r\"$p(A)$: {:.2f} %\".format(pA[0]),\n",
    "    placeholder=' ',\n",
    "    description=' ',\n",
    ")\n",
    "\n",
    "nonA = HTMLMath(\n",
    "    value=r\"$p(\\overline{A})$: \"+\"{:.2f} %\".format(100-pA[0]),\n",
    "    placeholder=' ',\n",
    "    description=' ',\n",
    ")\n",
    "\n",
    "B = HTMLMath(\n",
    "    value=r\"$p(B)$: {:.2f} %\".format(pB[0]),\n",
    "    placeholder=' ',\n",
    "    description=' ',\n",
    ")\n",
    "\n",
    "nonB = HTMLMath(\n",
    "    value=r\"$p(\\overline{B})$: \"+\"{:.2f} %\".format(100-pB[0]),\n",
    "    placeholder=' ',\n",
    "    description=' ',\n",
    ")\n",
    "\n",
    "AsachantB = HTMLMath(\n",
    "    value=r\"$p(A|B)\\ =\\ \\dfrac{{{:.2f} \\times {:.2f}}}{{{:.2f}}}\\ =\\ {:.2f}\\ \\%$\".format(pBA[0],pA[0],pB[0],pBA[0]*pA[0]/pB[0]),\n",
    "    placeholder=' ',\n",
    "    description=' ',\n",
    ")\n",
    "\n",
    "noms=[\"A.png\",\"nonA.png\",\"B.png\",\"nonB.png\"]\n",
    "file = []\n",
    "image = []\n",
    "cas = []\n",
    "for nom in noms:\n",
    "    file.append(open(nom, \"rb\"))   \n",
    "    image.append(file[-1].read())\n",
    "    cas.append(Image(\n",
    "    value=image[-1],\n",
    "    format='png',\n",
    "    width='300px',\n",
    "    height='300px',\n",
    "))\n",
    "                \n",
    "noms2=[\"AetB.png\",\"nonAetnonB.png\",\"nonAetB.png\",\"AetnonB.png\"]\n",
    "file2 = []\n",
    "image2 = []\n",
    "cas2 = []\n",
    "for nom in noms2:\n",
    "    file2.append(open(nom, \"rb\"))   \n",
    "    image2.append(file2[-1].read())\n",
    "    cas2.append(Image(\n",
    "    value=image2[-1],\n",
    "    format='png',\n",
    "    width='300px',\n",
    "    height='300px',\n",
    "))\n",
    "\n",
    "file3 = []\n",
    "image3 = []\n",
    "for i in range(4):\n",
    "    file3.append(open(\"Faux{}.png\".format(i), \"rb\"))\n",
    "    image3.append(file3[-1].read())\n",
    "\n",
    "faux = Image(\n",
    "    value=image3[0],\n",
    "    format='png',\n",
    "    width=600,\n",
    "    height=300,\n",
    ")\n",
    "\n",
    "\n",
    "ligne1 = HBox(cas)\n",
    "                \n",
    "ligne2 = HBox(cas2)\n",
    "\n",
    "\n",
    "display(ligne1)\n",
    "display(ligne2)\n",
    "\n",
    "display(indice)\n",
    "display(A)\n",
    "display(nonA)\n",
    "display(B)\n",
    "display(nonB)\n",
    "\n",
    "\n",
    "display(faux)\n",
    "display(vraipositif)\n",
    "display(vrainegatif)\n",
    "display(fauxpositif)\n",
    "display(fauxnegatif)\n",
    "\n",
    "\n",
    "\n",
    "def on_value_change(change):\n",
    "    vraipositif.value = r\"Fréquence de Vrai Positif: {} %\".format(VP[indice.value])\n",
    "    vrainegatif.value = \"Fréquence de Vrai Négatif: {} %\".format(VN[indice.value])\n",
    "    fauxpositif.value = \"Fréquence de Faux Positif: {} %\".format(FP[indice.value])\n",
    "    fauxnegatif.value = \"Fréquence de Faux Négatif: {} %\".format(FN[indice.value])\n",
    "    A.value = r\"$p(A)$: {:.2f} %\".format(pA[indice.value])\n",
    "    nonA.value = r\"$p(\\overline{A})$: \"+\"{:.2f} %\".format(100-pA[indice.value])\n",
    "    B.value = r\"$p(B)$: {:.2f} %\".format(pB[indice.value])\n",
    "    nonB.value=r\"$p(\\overline{B})$: \"+\"{:.2f} %\".format(100-pB[indice.value])\n",
    "    AsachantB.value=r\"$p(A|B)\\ =\\ \\dfrac{{{:.2f} \\times {:.2f}}}{{{:.2f}}}\\ =\\ {:.2f}\\ \\%$\".format(pBA[indice.value],pA[indice.value],pB[indice.value],pBA[indice.value]*pA[indice.value]/pB[indice.value])\n",
    "    faux.value = image3[indice.value]\n",
    "    \n",
    "indice.observe(on_value_change, names='value')"
   ]
  },
  {
   "cell_type": "markdown",
   "metadata": {},
   "source": [
    "La probabilité d'avoir effectivement un trois lorsque le test est positif peut se calculer grâce au théorème de Bayes:<br>\n",
    "$p(A|B)\\ =\\ \\dfrac{p(B|A)\\cdot p(A)}{p(B)}$\n",
    "<br>\n",
    "\n",
    "Ainsi la probabilité d'avoir un trois sachant que le test B est positif est de:"
   ]
  },
  {
   "cell_type": "code",
   "execution_count": 8,
   "metadata": {},
   "outputs": [
    {
     "data": {
      "application/vnd.jupyter.widget-view+json": {
       "model_id": "8075d5c0c8df49af8caaf21721f97a97",
       "version_major": 2,
       "version_minor": 0
      },
      "text/plain": [
       "HTMLMath(value='$p(A|B)\\\\ =\\\\ \\\\dfrac{94.31 \\\\times 10.25}{10.17}\\\\ =\\\\ 95.05\\\\ \\\\%$', description=' ', placeh…"
      ]
     },
     "metadata": {},
     "output_type": "display_data"
    }
   ],
   "source": [
    "display(AsachantB)"
   ]
  }
 ],
 "metadata": {
  "kernelspec": {
   "display_name": "Python 3",
   "language": "python",
   "name": "python3"
  },
  "language_info": {
   "codemirror_mode": {
    "name": "ipython",
    "version": 3
   },
   "file_extension": ".py",
   "mimetype": "text/x-python",
   "name": "python",
   "nbconvert_exporter": "python",
   "pygments_lexer": "ipython3",
   "version": "3.7.4"
  }
 },
 "nbformat": 4,
 "nbformat_minor": 2
}
