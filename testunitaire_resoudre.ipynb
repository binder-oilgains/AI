{
 "cells": [
  {
   "cell_type": "code",
   "execution_count": 2,
   "metadata": {},
   "outputs": [],
   "source": [
    "from ipywidgets import Button, Textarea, Layout\n",
    "from IPython.display import display\n",
    "import ipytest\n",
    "from IPython.utils.capture import capture_output"
   ]
  },
  {
   "cell_type": "code",
   "execution_count": 2,
   "metadata": {},
   "outputs": [],
   "source": [
    "#!pip install --user ipython_unittest #a ajouter dans requirements avec ipytest"
   ]
  },
  {
   "cell_type": "code",
   "execution_count": 3,
   "metadata": {},
   "outputs": [
    {
     "name": "stdout",
     "output_type": "stream",
     "text": [
      "The ipython_unittest extension is already loaded. To reload it, use:\n",
      "  %reload_ext ipython_unittest\n"
     ]
    }
   ],
   "source": [
    "%load_ext ipython_unittest\n",
    "ipytest.config(rewrite_asserts=True, magics=True)\n",
    "__file__ = \"testunitaire_resoudre.ipynb\""
   ]
  },
  {
   "cell_type": "markdown",
   "metadata": {},
   "source": [
    "<p><br><br>\n",
    "</p>\n",
    "\n",
    "# <span style=\"color: #FF0000\">Partie II - Fonction \"resoudre\"</span>\n",
    "### Fonction resoudre à tester\n",
    "```python\n",
    "def resoudre(a,b,c):\n",
    "    \"\"\"renvoie la ou les solutions de\n",
    "    ax**2 + bx + c =0\n",
    "    \"\"\"\n",
    "    delta = b**2 -4*a*c\n",
    "    if delta<0:\n",
    "        return None\n",
    "    elif delta==0:\n",
    "        return -b/(2*a)\n",
    "    else:\n",
    "        return([(-b + delta**0.5)/(2*a),(-b - delta**0.5)/(2*a)])\n",
    "```"
   ]
  },
  {
   "cell_type": "code",
   "execution_count": 8,
   "metadata": {},
   "outputs": [],
   "source": [
    "def resoudre(a,b,c):\n",
    "    \"\"\"renvoie la ou les solutions de\n",
    "    ax**2 + bx + c =0\n",
    "    \"\"\"\n",
    "    delta = b**2 -4*a*c\n",
    "    if delta<0:\n",
    "        return None\n",
    "    elif delta==0:\n",
    "        return -b/(2*a)\n",
    "    else:\n",
    "        return([(-b - delta**0.5)/(2*a),(-b + delta**0.5)/(2*a)])"
   ]
  },
  {
   "cell_type": "markdown",
   "metadata": {},
   "source": [
    "\n",
    "### Definition de quelques tests unitaires\n",
    "```python\n",
    "def test_delta_negatif():\n",
    "    assert resoudre(1,0,1) is None\n",
    "    \n",
    "def test_type_delta_nul():\n",
    "    assert type(resoudre(1,2,1)) == float\n",
    "        \n",
    "def test_valeur_delta_nul():\n",
    "    assert resoudre(1,2,1) == -1.0\n",
    "```"
   ]
  },
  {
   "cell_type": "code",
   "execution_count": 9,
   "metadata": {},
   "outputs": [],
   "source": [
    "ipytest.clean_tests()\n",
    "\n",
    "def test_delta_negatif():\n",
    "    assert resoudre(1,0,1) is None\n",
    "    \n",
    "def test_type_delta_nul():\n",
    "    assert type(resoudre(1,2,1)) == float\n",
    "        \n",
    "def test_valeur_delta_nul():\n",
    "    assert resoudre(1,2,1) == -1.0"
   ]
  },
  {
   "cell_type": "markdown",
   "metadata": {},
   "source": [
    "\n",
    "### Execution des tests unitaires sur la fonction resoudre\n",
    "```python\n",
    "ipytest.run('-qq')\n",
    "```\n",
    "### Sortie"
   ]
  },
  {
   "cell_type": "code",
   "execution_count": 6,
   "metadata": {},
   "outputs": [
    {
     "name": "stdout",
     "output_type": "stream",
     "text": [
      "...                                                                                                                                                                                                  [100%]\n"
     ]
    }
   ],
   "source": [
    "ipytest.run('-qq')"
   ]
  },
  {
   "cell_type": "markdown",
   "metadata": {},
   "source": [
    "### Ajouter des tests unitaires\n",
    "Ajouter ci-dessous des tests unitaires pour la fonction resoudre afin de tester tous les comportements possibles de cette fonction"
   ]
  },
  {
   "cell_type": "markdown",
   "metadata": {
    "solution2": "hidden",
    "solution2_first": true
   },
   "source": [
    " "
   ]
  },
  {
   "cell_type": "markdown",
   "metadata": {
    "solution2": "hidden"
   },
   "source": [
    "Il manque des tests pour\n",
    "* Le type lorsque delta est positif\n",
    "* La valeur lorsque delta est positif\n",
    "\n",
    "\n",
    "Vous pouvez utiliser par exemple: $x^2\\ +\\ x\\ -2\\ =\\ 0$\n",
    "\n",
    "\n",
    "Inspirez vous des tests déjà écrits pour le cas **delta est nul**."
   ]
  },
  {
   "cell_type": "code",
   "execution_count": 10,
   "metadata": {
    "solution2": "hidden",
    "solution2_first": true
   },
   "outputs": [
    {
     "data": {
      "application/vnd.jupyter.widget-view+json": {
       "model_id": "cf95553948db48efac4167fc9c754b63",
       "version_major": 2,
       "version_minor": 0
      },
      "text/plain": [
       "Textarea(value='def test_delta_negatif():\\n    assert resoudre(1,0,1) is None\\n    \\ndef test_type_delta_nul()…"
      ]
     },
     "metadata": {},
     "output_type": "display_data"
    },
    {
     "data": {
      "application/vnd.jupyter.widget-view+json": {
       "model_id": "5754722ac34549e49be78b3feae04666",
       "version_major": 2,
       "version_minor": 0
      },
      "text/plain": [
       "Button(description='RUN TESTS', style=ButtonStyle())"
      ]
     },
     "metadata": {},
     "output_type": "display_data"
    },
    {
     "data": {
      "application/vnd.jupyter.widget-view+json": {
       "model_id": "e9e5f021e34c4e278a7ef2c67314aec4",
       "version_major": 2,
       "version_minor": 0
      },
      "text/plain": [
       "Textarea(value=' ', description='Out', disabled=True, layout=Layout(height='500px', width='95%'), placeholder=…"
      ]
     },
     "metadata": {},
     "output_type": "display_data"
    }
   ],
   "source": [
    "lin2 =     Textarea(\n",
    "    value=\"\"\"def test_delta_negatif():\n",
    "    assert resoudre(1,0,1) is None\n",
    "    \n",
    "def test_type_delta_nul():\n",
    "    assert type(resoudre(1,2,1)) == float\n",
    "        \n",
    "def test_valeur_delta_nul():\n",
    "    assert resoudre(1,2,1) == -1.0\"\"\",\n",
    "    placeholder='Type something',\n",
    "    description='In',\n",
    "    disabled=False,\n",
    "    layout=Layout(width='95%', height='200px')\n",
    ")\n",
    "lout2 =     Textarea(\n",
    "    value=\" \",\n",
    "    placeholder=' ',\n",
    "    description='Out',\n",
    "    disabled=True,\n",
    "    layout=Layout(width='95%', height='500px')\n",
    ")\n",
    "button2 = Button(description=\"RUN TESTS\")\n",
    "\n",
    "\n",
    "display(lin2)\n",
    "display(button2)\n",
    "display(lout2)\n",
    "\n",
    "def onclick2(b=None):\n",
    "    f= open(\"testu2.py\",\"w\")\n",
    "    f.write(\"\"\"import ipytest\n",
    "\n",
    "ipytest.config(rewrite_asserts=True, magics=True)\n",
    "__file__ = \"unittest2.ipynb\"\n",
    "ipytest.clean_tests()\n",
    "\n",
    "def resoudre(a,b,c):\n",
    "    \\\"\\\"\\\"\n",
    "    renvoie la ou les solutions de\n",
    "    ax**2 + bx + c =0\n",
    "    \\\"\\\"\\\"\n",
    "    delta = b**2 -4*a*c\n",
    "    if delta<0:\n",
    "        return None\n",
    "    elif delta==0:\n",
    "        return -b/(2*a)\n",
    "    else:\n",
    "        return([(-b - delta**0.5)/(2*a),(-b + delta**0.5)/(2*a)])\n",
    "\n",
    "{}\n",
    "    \n",
    "ipytest.run('-qq')\"\"\".format(lin2.value))\n",
    "    f.close()\n",
    "    with capture_output() as c:\n",
    "        %run testu2.py\n",
    "    #c()\n",
    "    lout2.value=c.stdout\n",
    "button2.on_click(onclick2)"
   ]
  },
  {
   "cell_type": "markdown",
   "metadata": {
    "solution2": "hidden"
   },
   "source": [
    "```python\n",
    "def test_delta_negatif():\n",
    "    assert resoudre(1,0,1) is None\n",
    "    \n",
    "def test_type_delta_nul():\n",
    "    assert type(resoudre(1,2,1)) == float\n",
    "        \n",
    "def test_valeur_delta_nul():\n",
    "    assert resoudre(1,2,1) == -1.0\n",
    "    \n",
    "def test_type_delta_positif():\n",
    "    assert type(resoudre(1,1,-2)) == list\n",
    "        \n",
    "# delta = 9 d'où x1 = -2 et x2 = 1 dans cet ordre d'après l'écriture de la fonction\n",
    "def test_valeur_delta_positif():\n",
    "    assert resoudre(1,1,-2) == [-2., 1.]\n",
    "```"
   ]
  }
 ],
 "metadata": {
  "kernelspec": {
   "display_name": "Python 3",
   "language": "python",
   "name": "python3"
  },
  "language_info": {
   "codemirror_mode": {
    "name": "ipython",
    "version": 3
   },
   "file_extension": ".py",
   "mimetype": "text/x-python",
   "name": "python",
   "nbconvert_exporter": "python",
   "pygments_lexer": "ipython3",
   "version": "3.7.4"
  }
 },
 "nbformat": 4,
 "nbformat_minor": 2
}
