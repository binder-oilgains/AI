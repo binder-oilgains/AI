{
 "cells": [
  {
   "cell_type": "code",
   "execution_count": 1,
   "metadata": {},
   "outputs": [],
   "source": [
    "from ipywidgets import IntProgress, IntSlider, Dropdown, HTMLMath, interact, widgets, Image"
   ]
  },
  {
   "cell_type": "markdown",
   "metadata": {},
   "source": [
    "# <span style=\"color: #FF0000\">Détermination du chiffre représenté sur une image par comparaison avec les k plus proches voisins</span>"
   ]
  },
  {
   "cell_type": "markdown",
   "metadata": {},
   "source": [
    "### Import des bibliothèques nécessaires"
   ]
  },
  {
   "cell_type": "markdown",
   "metadata": {
    "solution2": "hidden",
    "solution2_first": true
   },
   "source": [
    " "
   ]
  },
  {
   "cell_type": "markdown",
   "metadata": {
    "solution2": "hidden"
   },
   "source": [
    "```python\n",
    "from ipywidgets import  IntSlider, Dropdown, HTMLMath, interact, widgets\n",
    "import numpy as np\n",
    "import matplotlib.pyplot as plt\n",
    "from sklearn.datasets import fetch_openml\n",
    "from sklearn.model_selection import train_test_split\n",
    "from sklearn import neighbors\n",
    "from random import randint\n",
    "\n",
    "#Schémas interactifs sur jupyter\n",
    "%matplotlib notebook\n",
    "```"
   ]
  },
  {
   "cell_type": "markdown",
   "metadata": {},
   "source": [
    "### Mise en mémoire des données du dataset MNIST et mise en forme des données"
   ]
  },
  {
   "cell_type": "markdown",
   "metadata": {
    "solution2": "hidden",
    "solution2_first": true
   },
   "source": [
    " "
   ]
  },
  {
   "cell_type": "markdown",
   "metadata": {
    "solution2": "hidden"
   },
   "source": [
    "```python\n",
    "X, y = fetch_openml('mnist_784', version=1, return_X_y=True)\n",
    "images = X.reshape((-1, 28, 28))\n",
    "```"
   ]
  },
  {
   "cell_type": "markdown",
   "metadata": {},
   "source": [
    "### Séparation des éléments en ensemble d'entrainement et ensemble de test\n",
    "Rééchantillonnage pour réduire la taille des données. On se limite à 6000 éléments ou moins pour attendre moins longtemps. Les résultats seraient bien entendu meilleurs avec plus de données. \n",
    "\n",
    "\n",
    "On sépare aussi ces éléments en un ensemble d'entrainement (80%) et un ensemble de test (20%)"
   ]
  },
  {
   "cell_type": "code",
   "execution_count": 9,
   "metadata": {},
   "outputs": [
    {
     "data": {
      "application/vnd.jupyter.widget-view+json": {
       "model_id": "ea9351e9fb064850845542348f145c1a",
       "version_major": 2,
       "version_minor": 0
      },
      "text/plain": [
       "Dropdown(description='Eléments:', options=(('6000', 0), ('3000', 1), ('2000', 2), ('1500', 3)), value=0)"
      ]
     },
     "metadata": {},
     "output_type": "display_data"
    },
    {
     "data": {
      "application/vnd.jupyter.widget-view+json": {
       "model_id": "8a96efe8e5b34b9ba2500dd2d18a9e09",
       "version_major": 2,
       "version_minor": 0
      },
      "text/plain": [
       "HTMLMath(value=\"Taille des données d'entrainement: 4800 éléments\", description=' ', placeholder=' ')"
      ]
     },
     "metadata": {},
     "output_type": "display_data"
    },
    {
     "data": {
      "application/vnd.jupyter.widget-view+json": {
       "model_id": "9aa5148c71c445b6866bf8c04bc8683e",
       "version_major": 2,
       "version_minor": 0
      },
      "text/plain": [
       "HTMLMath(value='Taille des données de test: 1200 éléments', description=' ', placeholder=' ')"
      ]
     },
     "metadata": {},
     "output_type": "display_data"
    }
   ],
   "source": [
    "valeurs = [('6000',0),('3000',1),('2000',2),('1500',3)]\n",
    "erreurs = [0.0633, 0.0733, 0.0900, 0.1233]\n",
    "kmin = [5,3,4,9]\n",
    "\n",
    "indice = Dropdown(\n",
    "    options=valeurs,\n",
    "    value=0,\n",
    "    description=\"Eléments:\",\n",
    ")\n",
    "\n",
    "display(indice)\n",
    "\n",
    "train = HTMLMath(\n",
    "    value=r\"Taille des données d'entrainement: {} éléments\".format(int(valeurs[0][0])*8//10),\n",
    "    placeholder=' ',\n",
    "    description=' ',\n",
    ")\n",
    "\n",
    "test = HTMLMath(\n",
    "    value=r\"Taille des données de test: {} éléments\".format(int(valeurs[0][0])*2//10),\n",
    "    placeholder=' ',\n",
    "    description=' ',\n",
    ")\n",
    "\n",
    "titreerreur = HTMLMath(\n",
    "    value=r\"<b>Erreur pour différentes valeurs de k avec un échantillon de {} éléments</b>\".format(int(valeurs[0][0])),\n",
    "    placeholder=' ',\n",
    "    description=' ',\n",
    ")\n",
    "\n",
    "valeurk = HTMLMath(\n",
    "    value=r\"<b>La meilleure valeur de k est {} correspondant à {:.2f} % d'erreur d'identification</b>\".format(kmin[0],erreurs[0]*100),\n",
    "    placeholder=' ',\n",
    "    description=' ',\n",
    ")\n",
    "\n",
    "file = []\n",
    "file2 = []\n",
    "image = []\n",
    "image2 = []\n",
    "for i in range(4):\n",
    "    file.append(open(\"Erreur{}.png\".format(i), \"rb\"))\n",
    "    file2.append(open(\"Mispredicted{}.png\".format(i), \"rb\"))\n",
    "    image.append(file[-1].read())\n",
    "    image2.append(file2[-1].read())\n",
    "erreur = Image(\n",
    "    value=image[0],\n",
    "    format='png',\n",
    "    width=600,\n",
    "    height=300,\n",
    ")\n",
    "\n",
    "mispredicted = Image(\n",
    "    value=image2[0],\n",
    "    format='png',\n",
    "    width=600,\n",
    "    height=300,\n",
    ")\n",
    "\n",
    "display(train)\n",
    "display(test)\n",
    "\n",
    "def on_value_change(change):\n",
    "    train.value = r\"Taille des données d'entrainement: {} éléments\".format(int(valeurs[indice.value][0])*8//10)\n",
    "    test.value = r\"Taille des données de test: {} éléments\".format(int(valeurs[indice.value][0])*2//10)\n",
    "    erreur.value = image[indice.value]\n",
    "    mispredicted.value = image2[indice.value]\n",
    "    titreerreur.value=\"<b>Erreur pour différentes valeurs de k avec un échantillon de {} éléments</b>\".format(int(valeurs[indice.value][0]))\n",
    "    valeurk.value = r\"<b>La meilleure valeur de k est {} correspondant à {:.2f} % d'erreur d'identification</b>\".format(kmin[indice.value],erreurs[indice.value]*100)\n",
    "    \n",
    "indice.observe(on_value_change, names='value')"
   ]
  },
  {
   "cell_type": "markdown",
   "metadata": {
    "solution2": "hidden",
    "solution2_first": true
   },
   "source": [
    " "
   ]
  },
  {
   "cell_type": "markdown",
   "metadata": {
    "solution2": "hidden"
   },
   "source": [
    "```python\n",
    "Nbre_elements = 6000 #ou 3000 ou 2000 ou 1500\n",
    "sample = np.random.randint(len(X), size=Nbre_elements)\n",
    "xsample=X[sample]\n",
    "ysample=y[sample]\n",
    "xtrain, xtest, ytrain, ytest = train_test_split(xsample, ysample, train_size=0.8)\n",
    "```"
   ]
  },
  {
   "cell_type": "markdown",
   "metadata": {},
   "source": [
    "### Mesure de l'erreur réalisée en fonction du nombre k de voisins considérés\n",
    "\n",
    "Calcul du pourcentage d'erreur d'identification en fonction du k choisi (on doit prendre le k pour lequel l'erreur est la plus faible)"
   ]
  },
  {
   "cell_type": "markdown",
   "metadata": {
    "solution2": "hidden",
    "solution2_first": true
   },
   "source": [
    " "
   ]
  },
  {
   "cell_type": "markdown",
   "metadata": {
    "solution2": "hidden"
   },
   "source": [
    "```python\n",
    "fig3=plt.figure(\"Figure 3\")\n",
    "ax3=fig3.add_subplot(1,1,1)\n",
    "errors = []\n",
    "for k in range(2,15):\n",
    "    knn = neighbors.KNeighborsClassifier(k)\n",
    "    errors.append(100*(1 - knn.fit(xtrain, ytrain).score(xtest, ytest)))\n",
    "ax3.plot(range(2,15), errors, 'o-')\n",
    "ax3.set_xlabel(\"valeur de k\")\n",
    "ax3.set_ylabel(\"pourcentage d'erreur\")\n",
    "fig3.show()\n",
    "```"
   ]
  },
  {
   "cell_type": "code",
   "execution_count": 4,
   "metadata": {},
   "outputs": [
    {
     "data": {
      "application/vnd.jupyter.widget-view+json": {
       "model_id": "31a5463c7f2e4f54b11e251ec04cac4d",
       "version_major": 2,
       "version_minor": 0
      },
      "text/plain": [
       "HTMLMath(value='<b>Erreur pour différentes valeurs de k avec un échantillon de 6000 éléments</b>', description…"
      ]
     },
     "metadata": {},
     "output_type": "display_data"
    },
    {
     "data": {
      "application/vnd.jupyter.widget-view+json": {
       "model_id": "d48a89f1028243888bf310811db1858f",
       "version_major": 2,
       "version_minor": 0
      },
      "text/plain": [
       "Image(value=b'\\x89PNG\\r\\n\\x1a\\n\\x00\\x00\\x00\\rIHDR\\x00\\x00\\x01\\x85\\x00\\x00\\x01\\n\\x08\\x06\\x00\\x00\\x00\\xfd\\xc5IE\\…"
      ]
     },
     "metadata": {},
     "output_type": "display_data"
    }
   ],
   "source": [
    "display(titreerreur)\n",
    "display(erreur)"
   ]
  },
  {
   "cell_type": "markdown",
   "metadata": {},
   "source": [
    "### On ajuste le modèle par rapport aux données d'entrainement en considérant le meilleur k, puis on utilise le modèle obtenu sur les données de test pour essayer de les identifier. "
   ]
  },
  {
   "cell_type": "code",
   "execution_count": 5,
   "metadata": {},
   "outputs": [
    {
     "data": {
      "application/vnd.jupyter.widget-view+json": {
       "model_id": "bbfb3e9cac554fe592f3d44f5358b720",
       "version_major": 2,
       "version_minor": 0
      },
      "text/plain": [
       "HTMLMath(value=\"<b>La meilleure valeur de k est 6 correspondant à 5.67 % d'erreur d'identification</b>\", descr…"
      ]
     },
     "metadata": {},
     "output_type": "display_data"
    }
   ],
   "source": [
    "display(valeurk)"
   ]
  },
  {
   "cell_type": "markdown",
   "metadata": {
    "solution2": "hidden",
    "solution2_first": true
   },
   "source": [
    " "
   ]
  },
  {
   "cell_type": "markdown",
   "metadata": {
    "solution2": "hidden"
   },
   "source": [
    "```python\n",
    "knn = neighbors.KNeighborsClassifier(2+errors.index(min(errors)))\n",
    "knn.fit(xtrain, ytrain)\n",
    "\n",
    "# On récupère les prédictions sur les données test\n",
    "predicted = knn.predict(xtest)\n",
    "```"
   ]
  },
  {
   "cell_type": "code",
   "execution_count": null,
   "metadata": {},
   "outputs": [],
   "source": []
  },
  {
   "cell_type": "code",
   "execution_count": null,
   "metadata": {},
   "outputs": [],
   "source": []
  },
  {
   "cell_type": "markdown",
   "metadata": {},
   "source": [
    "### Voici des exemples d'images mal identifiées"
   ]
  },
  {
   "cell_type": "code",
   "execution_count": 10,
   "metadata": {},
   "outputs": [
    {
     "data": {
      "application/vnd.jupyter.widget-view+json": {
       "model_id": "bdcfe7ff8fc54deda3640c1c785ed3e6",
       "version_major": 2,
       "version_minor": 0
      },
      "text/plain": [
       "Image(value=b'\\x89PNG\\r\\n\\x1a\\n\\x00\\x00\\x00\\rIHDR\\x00\\x00\\x01l\\x00\\x00\\x01\\x08\\x08\\x06\\x00\\x00\\x00{\\xfa\\xce\\xf…"
      ]
     },
     "metadata": {},
     "output_type": "display_data"
    }
   ],
   "source": [
    "display(mispredicted)"
   ]
  }
 ],
 "metadata": {
  "kernelspec": {
   "display_name": "Python 3",
   "language": "python",
   "name": "python3"
  },
  "language_info": {
   "codemirror_mode": {
    "name": "ipython",
    "version": 3
   },
   "file_extension": ".py",
   "mimetype": "text/x-python",
   "name": "python",
   "nbconvert_exporter": "python",
   "pygments_lexer": "ipython3",
   "version": "3.7.4"
  }
 },
 "nbformat": 4,
 "nbformat_minor": 2
}
