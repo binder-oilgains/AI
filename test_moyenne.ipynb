{
 "cells": [
  {
   "cell_type": "code",
   "execution_count": 1,
   "metadata": {},
   "outputs": [],
   "source": [
    "from ipywidgets import Button, Textarea, Layout, Output, ToggleButtons\n",
    "from IPython.display import display\n",
    "import ipytest\n",
    "from IPython.utils.capture import capture_output\n",
    "import sys,traceback"
   ]
  },
  {
   "cell_type": "code",
   "execution_count": null,
   "metadata": {},
   "outputs": [],
   "source": [
    "%%javascript\n",
    "IPython.OutputArea.prototype._should_scroll = function(lines) {\n",
    "    return false;\n",
    "}"
   ]
  },
  {
   "cell_type": "markdown",
   "metadata": {},
   "source": [
    "\n",
    "# <span style=\"color: #FF0000\">Ecrire des tests et corriger une fonction</span>\n",
    "\n",
    "### Fonction moyenne à tester\n",
    "```python\n",
    "def moyenne(liste):\n",
    "    somme = 0                            \t\n",
    "    for val in liste:                      \t\n",
    "        somme = somme + val   \t\n",
    "    return somme / len(liste)    \n",
    "```"
   ]
  },
  {
   "cell_type": "code",
   "execution_count": 39,
   "metadata": {},
   "outputs": [],
   "source": [
    "def moyenne(liste):\n",
    "    somme = 0\n",
    "    for val in liste:\n",
    "        somme = somme + val\n",
    "    return(somme / len(liste))"
   ]
  },
  {
   "cell_type": "markdown",
   "metadata": {},
   "source": [
    "\n",
    "### Definition des tests à réaliser\n",
    "* On vérifie que moyenne appliquée à la liste [1., 2., 3.] renvoie bien 2.\n",
    "```python\n",
    ">>> moyenne([1., 2., 3.]\n",
    "```"
   ]
  },
  {
   "cell_type": "code",
   "execution_count": 15,
   "metadata": {},
   "outputs": [
    {
     "name": "stdout",
     "output_type": "stream",
     "text": [
      "2.0\n"
     ]
    },
    {
     "data": {
      "application/vnd.jupyter.widget-view+json": {
       "model_id": "4444dd2ca46a408bb375edf2f904634f",
       "version_major": 2,
       "version_minor": 0
      },
      "text/plain": [
       "Output(layout=Layout(border='0px solid black'))"
      ]
     },
     "metadata": {},
     "output_type": "display_data"
    }
   ],
   "source": [
    "out1 = Output(layout={'border': '0px solid black'})\n",
    "out1.clear_output()\n",
    "out1.capture()\n",
    "print(moyenne([1., 2., 3.]))\n",
    "display(out1)"
   ]
  },
  {
   "cell_type": "markdown",
   "metadata": {},
   "source": [
    "* Une autre façon de faire est d'utiliser les booléens:\n",
    "```python\n",
    ">>> moyenne([1., 2., 3.]) == 2.\n",
    "```"
   ]
  },
  {
   "cell_type": "code",
   "execution_count": 16,
   "metadata": {},
   "outputs": [
    {
     "name": "stdout",
     "output_type": "stream",
     "text": [
      "True\n"
     ]
    },
    {
     "data": {
      "application/vnd.jupyter.widget-view+json": {
       "model_id": "4444dd2ca46a408bb375edf2f904634f",
       "version_major": 2,
       "version_minor": 0
      },
      "text/plain": [
       "Output(layout=Layout(border='0px solid black'))"
      ]
     },
     "metadata": {},
     "output_type": "display_data"
    }
   ],
   "source": [
    "out1.clear_output()\n",
    "out1.capture()\n",
    "print(moyenne([1.,2.,3.])==2.)\n",
    "display(out1)"
   ]
  },
  {
   "cell_type": "markdown",
   "metadata": {},
   "source": [
    "* On vérifie maintenant ce qui se passe avec une liste vide\n",
    "```python\n",
    ">>> moyenne([ ]) == None\n",
    "```"
   ]
  },
  {
   "cell_type": "code",
   "execution_count": 38,
   "metadata": {},
   "outputs": [
    {
     "name": "stdout",
     "output_type": "stream",
     "text": [
      "Traceback (most recent call last):\n",
      "  File \"<ipython-input-37-349bc42dc972>\", line 6, in moyenne\n",
      "    return(somme / len(liste))\n",
      "ZeroDivisionError: division by zero\n"
     ]
    },
    {
     "data": {
      "application/vnd.jupyter.widget-view+json": {
       "model_id": "4444dd2ca46a408bb375edf2f904634f",
       "version_major": 2,
       "version_minor": 0
      },
      "text/plain": [
       "Output(layout=Layout(border='0px solid black'))"
      ]
     },
     "metadata": {},
     "output_type": "display_data"
    }
   ],
   "source": [
    "out1.clear_output()\n",
    "out1.capture()\n",
    "try:\n",
    "    print(moyenne([])==None)\n",
    "except Exception as e:\n",
    "    exc_type, exc_value, exc_traceback = sys.exc_info()\n",
    "    traceback.print_exception(exc_type, exc_value, exc_traceback,\n",
    "                              limit=-1, file=sys.stdout)\n",
    "display(out1)"
   ]
  },
  {
   "cell_type": "code",
   "execution_count": null,
   "metadata": {},
   "outputs": [],
   "source": []
  },
  {
   "cell_type": "markdown",
   "metadata": {},
   "source": [
    "### Debogage\n",
    "1. Modifiez la fonction \"moyenne\" ci-dessous pour qu'elle passe tous les tests.  \n",
    "2. Ajouter des tests afin de trouver d'autres bugs de cette fonction\n",
    "3. Faire de même pour les fonctions sqrt et val_frac"
   ]
  },
  {
   "cell_type": "markdown",
   "metadata": {},
   "source": [
    "* indentation = 4 espaces  \n",
    "* 1 test = valeur d'entrée ; valeur de sortie ; commentaire (facultatif)  \n",
    "* 1 test par ligne"
   ]
  },
  {
   "cell_type": "code",
   "execution_count": 1,
   "metadata": {},
   "outputs": [
    {
     "ename": "NameError",
     "evalue": "name 'Output' is not defined",
     "output_type": "error",
     "traceback": [
      "\u001b[0;31m---------------------------------------------------------------------------\u001b[0m",
      "\u001b[0;31mNameError\u001b[0m                                 Traceback (most recent call last)",
      "\u001b[0;32m<ipython-input-1-178b475190b6>\u001b[0m in \u001b[0;36m<module>\u001b[0;34m()\u001b[0m\n\u001b[0;32m----> 1\u001b[0;31m \u001b[0mout\u001b[0m \u001b[0;34m=\u001b[0m \u001b[0mOutput\u001b[0m\u001b[0;34m(\u001b[0m\u001b[0mlayout\u001b[0m\u001b[0;34m=\u001b[0m\u001b[0;34m{\u001b[0m\u001b[0;34m'border'\u001b[0m\u001b[0;34m:\u001b[0m \u001b[0;34m'1px solid black'\u001b[0m\u001b[0;34m}\u001b[0m\u001b[0;34m)\u001b[0m\u001b[0;34m\u001b[0m\u001b[0;34m\u001b[0m\u001b[0m\n\u001b[0m\u001b[1;32m      2\u001b[0m \u001b[0;34m\u001b[0m\u001b[0m\n\u001b[1;32m      3\u001b[0m lin3 =     Textarea(\n\u001b[1;32m      4\u001b[0m     value=\"\"\"def moyenne( liste ):\n\u001b[1;32m      5\u001b[0m     \u001b[0msomme\u001b[0m \u001b[0;34m=\u001b[0m \u001b[0;36m0\u001b[0m\u001b[0;34m\u001b[0m\u001b[0;34m\u001b[0m\u001b[0m\n",
      "\u001b[0;31mNameError\u001b[0m: name 'Output' is not defined"
     ]
    }
   ],
   "source": [
    "out = Output(layout={'border': '1px solid black'})\n",
    "\n",
    "lin3 =     Textarea(\n",
    "    value=\"\"\"def moyenne( liste ):\n",
    "    somme = 0\n",
    "    for val in liste:\n",
    "        somme = somme + val\n",
    "    return somme / len( liste )\"\"\",\n",
    "    placeholder='Type something',\n",
    "    description='Fonction',\n",
    "    disabled=False,\n",
    "    layout=Layout(width='95%', height='350px')\n",
    ")\n",
    "\n",
    "lin4 =     Textarea(\n",
    "    value=\"\"\"[1., 2., 3.] ; 2.0 ; cas standard\n",
    "[ ] ;  ; liste vide\"\"\",\n",
    "    placeholder='Type something',\n",
    "    description='Tests',\n",
    "    disabled=False,\n",
    "    layout=Layout(width='95%', height='350px')\n",
    ")\n",
    "\n",
    "button3 = Button(description=\"RUN TESTS\")\n",
    "\n",
    "question = ToggleButtons(\n",
    "    options=['moyenne','correction moyenne','val_frac','correction val_frac','sqrt','correction sqrt'],\n",
    "    description='',\n",
    "    disabled=False,\n",
    "    button_style='',\n",
    ")\n",
    "\n",
    "def onclick(b):\n",
    "    out.clear_output()\n",
    "    f = question.value\n",
    "    if f == 'moyenne':\n",
    "        lin3.value = \"\"\"def moyenne( liste ):\n",
    "    somme = 0\n",
    "    for val in liste:\n",
    "        somme = somme + val\n",
    "    return somme / len( liste )\"\"\"\n",
    "        lin4.value=\"\"\"[1., 2., 3.] ; 2.0 ; cas standard\n",
    "[ ] ;  ; liste vide\"\"\"\n",
    "    elif f == 'correction moyenne':\n",
    "        lin3.value = \"\"\"def moyenne( liste ):\n",
    "    if type(liste) != list: return None\n",
    "    n = len(liste)\n",
    "    if n == 0: return None\n",
    "    somme = 0\n",
    "    for i in range(n):\n",
    "        if type(liste[i]) != int and type(liste[i]) != float: return None\n",
    "        somme = somme + liste[i]\n",
    "    return somme / n\"\"\"\n",
    "        lin4.value=\"\"\"[1., 2., 3.] ; 2.0 ; cas standard\n",
    "[ ] ;  ; liste vide\n",
    "[ 1 ] ; 1 ; un seul élément\n",
    "\"bonjour\" ; None ; mauvais type\n",
    "[\"a\" , 1, 2.] ; None ; élément de mauvais type\"\"\"\n",
    "    elif f == 'val_frac':\n",
    "        lin3.value = \"\"\"def val_frac(a, b):\n",
    "    return a / b\"\"\"\n",
    "        lin4.value = \"\"\"1, 2 ; 0.5 ; cas standard\"\"\"\n",
    "    elif f == 'correction val_frac':\n",
    "        lin3.value = \"\"\"def val_frac(a, b):\n",
    "    if b == 0:\n",
    "        return None\n",
    "    elif type(a)!= int and type(a) != float:\n",
    "        return None\n",
    "    elif type(b)!= int and type(b) != float:\n",
    "        return None\n",
    "    else:\n",
    "        return a / b\"\"\"\n",
    "        lin4.value = \"\"\"1, 2 ; 0.5 ; cas standard\n",
    "'a', 2 ; None ; mauvais type pour a\n",
    "1., True ; None ; mauvais type pour b\n",
    "3, 0 ; None ; denominateur nul\"\"\"\n",
    "    elif f == 'sqrt':\n",
    "        lin3.value = \"\"\"def sqrt(val):\n",
    "    return val ** 0.5\"\"\"\n",
    "        lin4.value = \"\"\"4. ; 2. ; cas standard\"\"\"\n",
    "    else:\n",
    "        lin3.value = \"\"\"def sqrt(val):\n",
    "    if type(val) != int and type(val) != float:\n",
    "        return None\n",
    "    elif val < 0:\n",
    "        return None\n",
    "    else:\n",
    "        return val ** 0.5\"\"\"\n",
    "        lin4.value = \"\"\"4. ; 2. ; cas standard\n",
    "-2. ; None ; nombre négatif\n",
    "True ; None ; mauvais type\"\"\"\n",
    "\n",
    "\n",
    "question.observe(onclick,names='value')\n",
    "\n",
    "display(question)\n",
    "display(lin3)\n",
    "display(lin4)\n",
    "display(button3)\n",
    "display(out)\n",
    "\n",
    "@out.capture()\n",
    "def test(definition,fonction,val,res,cas=''):\n",
    "    print(\"#####\",cas,\"#####\")\n",
    "    utilisation =\"print({}({})=={})\\n\".format(fonction,val,res)\n",
    "    f= open(\"testu.py\",\"w\")\n",
    "    f.write(\"\"\"\n",
    "#definition fonction\n",
    "{} \n",
    "\n",
    "#utilisations\n",
    "{}\n",
    "\"\"\".format(definition,utilisation))\n",
    "    f.close()\n",
    "    sortie=\"\"\n",
    "    try:\n",
    "        %run testu.py\n",
    "    except Exception as e:\n",
    "            exc_type, exc_value, exc_traceback = sys.exc_info()\n",
    "            traceback.print_exception(exc_type, exc_value, exc_traceback,\n",
    "                              limit=-1, file=sys.stdout)\n",
    "    print(\" \")\n",
    "\n",
    "\n",
    "def onclick3(b=None):\n",
    "    out.clear_output()\n",
    "    tests = lin4.value\n",
    "    tests = tests.strip().split(\"\\n\")\n",
    "    vals = []\n",
    "    res = []\n",
    "    cas = []\n",
    "    for i in range(len(tests)):\n",
    "        data = tests[i].split(\";\")\n",
    "        vals.append(data[0].strip())\n",
    "        res.append(data[1].strip())\n",
    "        try:\n",
    "            cas.append(data[2].strip())\n",
    "        except:\n",
    "            cas.append(\"\")\n",
    "        if vals[-1]==\"\": vals[-1]=None\n",
    "        if res[-1]==\"\": res[-1]=None\n",
    "    fonction = lin3.value.split(\"\\n\")[0].strip().split(\" \")[1].strip().split(\"(\")[0].strip()\n",
    "    for i in range(len(vals)):\n",
    "        test(lin3.value,fonction,vals[i],res[i],cas[i])\n",
    " \n",
    "        \n",
    "        \n",
    "button3.on_click(onclick3)"
   ]
  }
 ],
 "metadata": {
  "kernelspec": {
   "display_name": "Python 3",
   "language": "python",
   "name": "python3"
  },
  "language_info": {
   "codemirror_mode": {
    "name": "ipython",
    "version": 3
   },
   "file_extension": ".py",
   "mimetype": "text/x-python",
   "name": "python",
   "nbconvert_exporter": "python",
   "pygments_lexer": "ipython3",
   "version": "3.7.6"
  }
 },
 "nbformat": 4,
 "nbformat_minor": 4
}
