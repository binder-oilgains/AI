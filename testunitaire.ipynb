{
 "cells": [
  {
   "cell_type": "markdown",
   "metadata": {},
   "source": [
    "### Import de la bibliothèque de tests unitaires"
   ]
  },
  {
   "cell_type": "code",
   "execution_count": 1,
   "metadata": {},
   "outputs": [
    {
     "name": "stdout",
     "output_type": "stream",
     "text": [
      "OK\n"
     ]
    }
   ],
   "source": [
    "import unittest\n",
    "print(\"OK\")"
   ]
  },
  {
   "cell_type": "markdown",
   "metadata": {},
   "source": [
    "# <span style=\"color: #FF0000\">Partie I - Fonction \"moyenne\"</span>\n",
    "### Fonction de calcul de moyenne à tester"
   ]
  },
  {
   "cell_type": "code",
   "execution_count": 2,
   "metadata": {},
   "outputs": [
    {
     "name": "stdout",
     "output_type": "stream",
     "text": [
      "OK\n"
     ]
    }
   ],
   "source": [
    "def moyenne(liste):\n",
    "    reponse = 0\n",
    "    for val in liste:\n",
    "        reponse += val\n",
    "    return reponse / len(liste)\n",
    "print(\"OK\")"
   ]
  },
  {
   "cell_type": "markdown",
   "metadata": {},
   "source": [
    "\n",
    "### Definition du test unitaire"
   ]
  },
  {
   "cell_type": "code",
   "execution_count": 3,
   "metadata": {},
   "outputs": [
    {
     "name": "stdout",
     "output_type": "stream",
     "text": [
      "OK\n"
     ]
    }
   ],
   "source": [
    "class testMoyenne(unittest.TestCase):\n",
    "    def test_sur_entree(self):\n",
    "        self.assertEqual(moyenne([1,2,3]),2.)\n",
    "print(\"OK\")"
   ]
  },
  {
   "cell_type": "markdown",
   "metadata": {},
   "source": [
    "\n",
    "### Execution du test unitaire sur la fonction moyenne"
   ]
  },
  {
   "cell_type": "code",
   "execution_count": 4,
   "metadata": {},
   "outputs": [
    {
     "name": "stderr",
     "output_type": "stream",
     "text": [
      "test_sur_entree (__main__.testMoyenne) ... ok\n",
      "\n",
      "----------------------------------------------------------------------\n",
      "Ran 1 test in 0.003s\n",
      "\n",
      "OK\n"
     ]
    },
    {
     "data": {
      "text/plain": [
       "<unittest.runner.TextTestResult run=1 errors=0 failures=0>"
      ]
     },
     "execution_count": 4,
     "metadata": {},
     "output_type": "execute_result"
    }
   ],
   "source": [
    "test = unittest.TestLoader().loadTestsFromTestCase(testMoyenne)\n",
    "lanceur = unittest.TextTestRunner(verbosity=2)\n",
    "lanceur.run(test)"
   ]
  },
  {
   "cell_type": "markdown",
   "metadata": {},
   "source": [
    "<p><br><br>\n",
    "</p>\n",
    "\n",
    "# <span style=\"color: #FF0000\">Partie II - Fonction \"resoudre\"</span>\n",
    "### Fonction resoudre à tester"
   ]
  },
  {
   "cell_type": "code",
   "execution_count": 5,
   "metadata": {},
   "outputs": [
    {
     "name": "stdout",
     "output_type": "stream",
     "text": [
      "OK\n"
     ]
    }
   ],
   "source": [
    "def resoudre(a,b,c):\n",
    "    \"\"\"renvoie la ou les solutions de\n",
    "    ax**2 + bx + c =0\n",
    "    \"\"\"\n",
    "    delta = b**2 -4*a*c\n",
    "    if delta<0:\n",
    "        return None\n",
    "    elif delta==0:\n",
    "        return -b/(2*a)\n",
    "    else:\n",
    "        return([(-b*delta**0.5)/(2*a),(-b*delta**0.5)/(2*a)])\n",
    "print(\"OK\")"
   ]
  },
  {
   "cell_type": "markdown",
   "metadata": {},
   "source": [
    "\n",
    "### Definition des tests unitaires"
   ]
  },
  {
   "cell_type": "code",
   "execution_count": 6,
   "metadata": {},
   "outputs": [
    {
     "name": "stdout",
     "output_type": "stream",
     "text": [
      "OK\n"
     ]
    }
   ],
   "source": [
    "class testResoudre(unittest.TestCase):\n",
    "    def test_delta_negatif(self):\n",
    "        self.assertIs(resoudre(1,0,1),None)\n",
    "    \n",
    "    def test_type_delta_nul(self):\n",
    "        self.assertTrue(type(resoudre(1,2,1))==float)\n",
    "        \n",
    "    def test_valeur_delta_nul(self):\n",
    "        self.assertEqual(resoudre(1,2,1),-1.)\n",
    "print(\"OK\")"
   ]
  },
  {
   "cell_type": "markdown",
   "metadata": {},
   "source": [
    "\n",
    "### Execution des tests unitaires sur la fonction resoudre"
   ]
  },
  {
   "cell_type": "code",
   "execution_count": 7,
   "metadata": {},
   "outputs": [
    {
     "name": "stderr",
     "output_type": "stream",
     "text": [
      "test_delta_negatif (__main__.testResoudre) ... ok\n",
      "test_type_delta_nul (__main__.testResoudre) ... ok\n",
      "test_valeur_delta_nul (__main__.testResoudre) ... ok\n",
      "\n",
      "----------------------------------------------------------------------\n",
      "Ran 3 tests in 0.007s\n",
      "\n",
      "OK\n"
     ]
    },
    {
     "data": {
      "text/plain": [
       "<unittest.runner.TextTestResult run=3 errors=0 failures=0>"
      ]
     },
     "execution_count": 7,
     "metadata": {},
     "output_type": "execute_result"
    }
   ],
   "source": [
    "test = unittest.TestLoader().loadTestsFromTestCase(testResoudre)\n",
    "lanceur = unittest.TextTestRunner(verbosity=2)\n",
    "lanceur.run(test)"
   ]
  },
  {
   "cell_type": "markdown",
   "metadata": {},
   "source": [
    "<p><br>\n",
    "<br>\n",
    "</p>\n",
    "\n",
    "\n",
    "# <span style=\"color: #FF0000\">Partie III - Fonction \"bonjour\"</span>\n",
    "\n",
    "### Fonction bonjour à tester"
   ]
  },
  {
   "cell_type": "code",
   "execution_count": 8,
   "metadata": {},
   "outputs": [
    {
     "name": "stdout",
     "output_type": "stream",
     "text": [
      "OK\n"
     ]
    }
   ],
   "source": [
    "def bonjour(n):\n",
    "    \"\"\"renvoie une liste contenant n fois la\n",
    "    chaine de caracteres \"bonjour\" \n",
    "    \"\"\"\n",
    "    \n",
    "    if n<0:\n",
    "        return None\n",
    "    elif n==0:\n",
    "        return []\n",
    "    else:\n",
    "        reponse = []\n",
    "        for i in range(1,n):\n",
    "            reponse.append(\"bonjour\")\n",
    "        return reponse\n",
    "print(\"OK\")"
   ]
  },
  {
   "cell_type": "markdown",
   "metadata": {},
   "source": [
    "\n",
    "### Definition des tests unitaires"
   ]
  },
  {
   "cell_type": "code",
   "execution_count": 9,
   "metadata": {},
   "outputs": [
    {
     "name": "stdout",
     "output_type": "stream",
     "text": [
      "OK\n"
     ]
    }
   ],
   "source": [
    "class testBonjour(unittest.TestCase):\n",
    "    def test_n_negatif(self):\n",
    "        self.assertIs(bonjour(-1),None)\n",
    "    \n",
    "    def test_type_n_nul(self):\n",
    "        self.assertTrue(type(bonjour(0))==list)\n",
    "        \n",
    "    def test_valeur_n_nul(self):\n",
    "        self.assertEqual(bonjour(0),[])\n",
    "        \n",
    "    def test_type_n_positif(self):\n",
    "        self.assertTrue(type(bonjour(5))==list)\n",
    "        \n",
    "    def test_element_n_positif(self):\n",
    "        self.assertEqual(bonjour(5)[0],\"bonjour\")\n",
    "        \n",
    "    def test_valeur_n_positif(self):\n",
    "        self.assertEqual(bonjour(5),[\"bonjour\",\"bonjour\",\"bonjour\",\"bonjour\",\"bonjour\"])\n",
    "print(\"OK\")"
   ]
  },
  {
   "cell_type": "markdown",
   "metadata": {},
   "source": [
    "\n",
    "### Execution des tests unitaires sur la fonction bonjour"
   ]
  },
  {
   "cell_type": "code",
   "execution_count": 10,
   "metadata": {},
   "outputs": [
    {
     "name": "stderr",
     "output_type": "stream",
     "text": [
      "test_element_n_positif (__main__.testBonjour) ... ok\n",
      "test_n_negatif (__main__.testBonjour) ... ok\n",
      "test_type_n_nul (__main__.testBonjour) ... ok\n",
      "test_type_n_positif (__main__.testBonjour) ... ok\n",
      "test_valeur_n_nul (__main__.testBonjour) ... ok\n",
      "test_valeur_n_positif (__main__.testBonjour) ... FAIL\n",
      "\n",
      "======================================================================\n",
      "FAIL: test_valeur_n_positif (__main__.testBonjour)\n",
      "----------------------------------------------------------------------\n",
      "Traceback (most recent call last):\n",
      "  File \"<ipython-input-9-347d59322cc3>\", line 18, in test_valeur_n_positif\n",
      "    self.assertEqual(bonjour(5),[\"bonjour\",\"bonjour\",\"bonjour\",\"bonjour\",\"bonjour\"])\n",
      "AssertionError: Lists differ: ['bonjour', 'bonjour', 'bonjour', 'bonjour'] != ['bonjour', 'bonjour', 'bonjour', 'bonjour', 'bonjour']\n",
      "\n",
      "Second list contains 1 additional elements.\n",
      "First extra element 4:\n",
      "'bonjour'\n",
      "\n",
      "- ['bonjour', 'bonjour', 'bonjour', 'bonjour']\n",
      "+ ['bonjour', 'bonjour', 'bonjour', 'bonjour', 'bonjour']\n",
      "?                                   +++++++++++\n",
      "\n",
      "\n",
      "----------------------------------------------------------------------\n",
      "Ran 6 tests in 0.019s\n",
      "\n",
      "FAILED (failures=1)\n"
     ]
    },
    {
     "data": {
      "text/plain": [
       "<unittest.runner.TextTestResult run=6 errors=0 failures=1>"
      ]
     },
     "execution_count": 10,
     "metadata": {},
     "output_type": "execute_result"
    }
   ],
   "source": [
    "test = unittest.TestLoader().loadTestsFromTestCase(testBonjour)\n",
    "lanceur = unittest.TextTestRunner(verbosity=2)\n",
    "lanceur.run(test)"
   ]
  }
 ],
 "metadata": {
  "kernelspec": {
   "display_name": "Python 3",
   "language": "python",
   "name": "python3"
  },
  "language_info": {
   "codemirror_mode": {
    "name": "ipython",
    "version": 3
   },
   "file_extension": ".py",
   "mimetype": "text/x-python",
   "name": "python",
   "nbconvert_exporter": "python",
   "pygments_lexer": "ipython3",
   "version": "3.7.3"
  }
 },
 "nbformat": 4,
 "nbformat_minor": 2
}
