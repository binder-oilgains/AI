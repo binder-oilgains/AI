{
 "cells": [
  {
   "cell_type": "markdown",
   "metadata": {},
   "source": [
    "# <span style=\"color: #FF0000\">Algorithme kNN sur des données de cancer du sein</span>"
   ]
  },
  {
   "cell_type": "markdown",
   "metadata": {},
   "source": [
    "### Chargement des bibliothèques nécessaires"
   ]
  },
  {
   "cell_type": "markdown",
   "metadata": {
    "solution2": "hidden",
    "solution2_first": true
   },
   "source": [
    " "
   ]
  },
  {
   "cell_type": "markdown",
   "metadata": {
    "solution2": "hidden"
   },
   "source": [
    "```python\n",
    "import numpy as np\n",
    "import matplotlib.pyplot as plt\n",
    "from sklearn.datasets import load_breast_cancer\n",
    "from sklearn.model_selection import train_test_split\n",
    "from sklearn import neighbors\n",
    "from random import randint\n",
    "```"
   ]
  },
  {
   "cell_type": "code",
   "execution_count": 2,
   "metadata": {},
   "outputs": [],
   "source": [
    "import numpy as np\n",
    "import matplotlib.pyplot as plt\n",
    "from sklearn.datasets import load_breast_cancer\n",
    "from sklearn.model_selection import train_test_split\n",
    "from sklearn import neighbors\n",
    "from random import randint"
   ]
  },
  {
   "cell_type": "markdown",
   "metadata": {},
   "source": [
    "### Chargement des données sur le cancer du sein"
   ]
  },
  {
   "cell_type": "markdown",
   "metadata": {
    "solution2": "hidden",
    "solution2_first": true
   },
   "source": [
    " "
   ]
  },
  {
   "cell_type": "markdown",
   "metadata": {
    "solution2": "hidden"
   },
   "source": [
    "```python\n",
    "X,y = load_breast_cancer(True)\n",
    "```"
   ]
  },
  {
   "cell_type": "code",
   "execution_count": 4,
   "metadata": {},
   "outputs": [],
   "source": [
    "X,y = load_breast_cancer(True)"
   ]
  },
  {
   "cell_type": "markdown",
   "metadata": {},
   "source": [
    "Le dataset comporte 569 cas et pour chacun 30 valeurs numériques liées à des caractéristiques des cellules prélevées. Ces caractéristiques ont été mesurées sur des images numérisées de ces cellules."
   ]
  },
  {
   "cell_type": "code",
   "execution_count": 3,
   "metadata": {},
   "outputs": [
    {
     "data": {
      "text/plain": [
       "(569, 30)"
      ]
     },
     "execution_count": 3,
     "metadata": {},
     "output_type": "execute_result"
    }
   ],
   "source": [
    "X.shape"
   ]
  },
  {
   "cell_type": "markdown",
   "metadata": {},
   "source": [
    "On peut accéder, avec quelques lignes de code, à beaucoup d'informations concernant ces données comme:"
   ]
  },
  {
   "cell_type": "markdown",
   "metadata": {
    "solution2": "hidden",
    "solution2_first": true
   },
   "source": [
    " "
   ]
  },
  {
   "cell_type": "markdown",
   "metadata": {
    "solution2": "hidden"
   },
   "source": [
    "```python\n",
    "bun = load_breast_cancer()\n",
    "\n",
    "for val in bun['feature_names']:\n",
    "    print(val)\n",
    "    \n",
    "print(bun['target_names'])\n",
    "\n",
    "print(bun['DESCR'])\n",
    "\n",
    "```"
   ]
  },
  {
   "cell_type": "markdown",
   "metadata": {},
   "source": [
    " - les caractéristiques stockées pour chaque cas"
   ]
  },
  {
   "cell_type": "markdown",
   "metadata": {
    "solution2": "hidden",
    "solution2_first": true
   },
   "source": [
    " "
   ]
  },
  {
   "cell_type": "markdown",
   "metadata": {
    "solution2": "hidden"
   },
   "source": [
    "```python\n",
    "mean radius\n",
    "mean texture\n",
    "mean perimeter\n",
    "mean area\n",
    "mean smoothness\n",
    "mean compactness\n",
    "mean concavity\n",
    "mean concave points\n",
    "mean symmetry\n",
    "mean fractal dimension\n",
    "radius error\n",
    "texture error\n",
    "perimeter error\n",
    "area error\n",
    "smoothness error\n",
    "compactness error\n",
    "concavity error\n",
    "concave points error\n",
    "symmetry error\n",
    "fractal dimension error\n",
    "worst radius\n",
    "worst texture\n",
    "worst perimeter\n",
    "worst area\n",
    "worst smoothness\n",
    "worst compactness\n",
    "worst concavity\n",
    "worst concave points\n",
    "worst symmetry\n",
    "worst fractal dimension\n",
    "```"
   ]
  },
  {
   "cell_type": "markdown",
   "metadata": {},
   "source": [
    " - les catégories"
   ]
  },
  {
   "cell_type": "markdown",
   "metadata": {
    "solution2": "hidden",
    "solution2_first": true
   },
   "source": [
    " "
   ]
  },
  {
   "cell_type": "markdown",
   "metadata": {
    "solution2": "hidden"
   },
   "source": [
    "```python\n",
    "['malignant' 'benign']\n",
    "```"
   ]
  },
  {
   "cell_type": "markdown",
   "metadata": {},
   "source": [
    " - une description précise des données"
   ]
  },
  {
   "cell_type": "markdown",
   "metadata": {
    "solution2": "hidden",
    "solution2_first": true
   },
   "source": [
    " "
   ]
  },
  {
   "cell_type": "markdown",
   "metadata": {
    "solution2": "hidden"
   },
   "source": [
    "```python\n",
    ".. _breast_cancer_dataset:\n",
    "\n",
    "Breast cancer wisconsin (diagnostic) dataset\n",
    "--------------------------------------------\n",
    "\n",
    "**Data Set Characteristics:**\n",
    "\n",
    "    :Number of Instances: 569\n",
    "\n",
    "    :Number of Attributes: 30 numeric, predictive attributes and the class\n",
    "\n",
    "    :Attribute Information:\n",
    "        - radius (mean of distances from center to points on the perimeter)\n",
    "        - texture (standard deviation of gray-scale values)\n",
    "        - perimeter\n",
    "        - area\n",
    "        - smoothness (local variation in radius lengths)\n",
    "        - compactness (perimeter^2 / area - 1.0)\n",
    "        - concavity (severity of concave portions of the contour)\n",
    "        - concave points (number of concave portions of the contour)\n",
    "        - symmetry \n",
    "        - fractal dimension (\"coastline approximation\" - 1)\n",
    "\n",
    "        The mean, standard error, and \"worst\" or largest (mean of the three\n",
    "        largest values) of these features were computed for each image,\n",
    "        resulting in 30 features.  For instance, field 3 is Mean Radius, field\n",
    "        13 is Radius SE, field 23 is Worst Radius.\n",
    "\n",
    "        - class:\n",
    "                - WDBC-Malignant\n",
    "                - WDBC-Benign\n",
    "\n",
    "    :Summary Statistics:\n",
    "\n",
    "    ===================================== ====== ======\n",
    "                                           Min    Max\n",
    "    ===================================== ====== ======\n",
    "    radius (mean):                        6.981  28.11\n",
    "    texture (mean):                       9.71   39.28\n",
    "    perimeter (mean):                     43.79  188.5\n",
    "    area (mean):                          143.5  2501.0\n",
    "    smoothness (mean):                    0.053  0.163\n",
    "    compactness (mean):                   0.019  0.345\n",
    "    concavity (mean):                     0.0    0.427\n",
    "    concave points (mean):                0.0    0.201\n",
    "    symmetry (mean):                      0.106  0.304\n",
    "    fractal dimension (mean):             0.05   0.097\n",
    "    radius (standard error):              0.112  2.873\n",
    "    texture (standard error):             0.36   4.885\n",
    "    perimeter (standard error):           0.757  21.98\n",
    "    area (standard error):                6.802  542.2\n",
    "    smoothness (standard error):          0.002  0.031\n",
    "    compactness (standard error):         0.002  0.135\n",
    "    concavity (standard error):           0.0    0.396\n",
    "    concave points (standard error):      0.0    0.053\n",
    "    symmetry (standard error):            0.008  0.079\n",
    "    fractal dimension (standard error):   0.001  0.03\n",
    "    radius (worst):                       7.93   36.04\n",
    "    texture (worst):                      12.02  49.54\n",
    "    perimeter (worst):                    50.41  251.2\n",
    "    area (worst):                         185.2  4254.0\n",
    "    smoothness (worst):                   0.071  0.223\n",
    "    compactness (worst):                  0.027  1.058\n",
    "    concavity (worst):                    0.0    1.252\n",
    "    concave points (worst):               0.0    0.291\n",
    "    symmetry (worst):                     0.156  0.664\n",
    "    fractal dimension (worst):            0.055  0.208\n",
    "    ===================================== ====== ======\n",
    "\n",
    "    :Missing Attribute Values: None\n",
    "\n",
    "    :Class Distribution: 212 - Malignant, 357 - Benign\n",
    "\n",
    "    :Creator:  Dr. William H. Wolberg, W. Nick Street, Olvi L. Mangasarian\n",
    "\n",
    "    :Donor: Nick Street\n",
    "\n",
    "    :Date: November, 1995\n",
    "\n",
    "This is a copy of UCI ML Breast Cancer Wisconsin (Diagnostic) datasets.\n",
    "https://goo.gl/U2Uwz2\n",
    "\n",
    "Features are computed from a digitized image of a fine needle\n",
    "aspirate (FNA) of a breast mass.  They describe\n",
    "characteristics of the cell nuclei present in the image.\n",
    "\n",
    "Separating plane described above was obtained using\n",
    "Multisurface Method-Tree (MSM-T) [K. P. Bennett, \"Decision Tree\n",
    "Construction Via Linear Programming.\" Proceedings of the 4th\n",
    "Midwest Artificial Intelligence and Cognitive Science Society,\n",
    "pp. 97-101, 1992], a classification method which uses linear\n",
    "programming to construct a decision tree.  Relevant features\n",
    "were selected using an exhaustive search in the space of 1-4\n",
    "features and 1-3 separating planes.\n",
    "\n",
    "The actual linear program used to obtain the separating plane\n",
    "in the 3-dimensional space is that described in:\n",
    "[K. P. Bennett and O. L. Mangasarian: \"Robust Linear\n",
    "Programming Discrimination of Two Linearly Inseparable Sets\",\n",
    "Optimization Methods and Software 1, 1992, 23-34].\n",
    "\n",
    "This database is also available through the UW CS ftp server:\n",
    "\n",
    "ftp ftp.cs.wisc.edu\n",
    "cd math-prog/cpo-dataset/machine-learn/WDBC/\n",
    "\n",
    ".. topic:: References\n",
    "\n",
    "   - W.N. Street, W.H. Wolberg and O.L. Mangasarian. Nuclear feature extraction \n",
    "     for breast tumor diagnosis. IS&T/SPIE 1993 International Symposium on \n",
    "     Electronic Imaging: Science and Technology, volume 1905, pages 861-870,\n",
    "     San Jose, CA, 1993.\n",
    "   - O.L. Mangasarian, W.N. Street and W.H. Wolberg. Breast cancer diagnosis and \n",
    "     prognosis via linear programming. Operations Research, 43(4), pages 570-577, \n",
    "     July-August 1995.\n",
    "   - W.H. Wolberg, W.N. Street, and O.L. Mangasarian. Machine learning techniques\n",
    "     to diagnose breast cancer from fine-needle aspirates. Cancer Letters 77 (1994) \n",
    "     163-171.\n",
    "```"
   ]
  },
  {
   "cell_type": "markdown",
   "metadata": {},
   "source": [
    "### Séparation des données en ensemble de test et ensemble d'entrainement"
   ]
  },
  {
   "cell_type": "markdown",
   "metadata": {
    "solution2": "hidden",
    "solution2_first": true
   },
   "source": [
    " "
   ]
  },
  {
   "cell_type": "markdown",
   "metadata": {
    "solution2": "hidden"
   },
   "source": [
    "```python\n",
    "xtrain, xtest, ytrain, ytest = train_test_split(X, y, train_size=0.8)\n",
    "```"
   ]
  },
  {
   "cell_type": "code",
   "execution_count": 6,
   "metadata": {},
   "outputs": [],
   "source": [
    "xtrain, xtest, ytrain, ytest = train_test_split(X, y, train_size=0.8)"
   ]
  },
  {
   "cell_type": "markdown",
   "metadata": {},
   "source": [
    "### Comparaison avec k voisins et choix de la meilleure valeur de k"
   ]
  },
  {
   "cell_type": "markdown",
   "metadata": {},
   "source": [
    "On teste les valeurs de k comprises entre 1 et 14 et on mesure l'erreur faite sur l'ensemble de test."
   ]
  },
  {
   "cell_type": "markdown",
   "metadata": {
    "solution2": "hidden",
    "solution2_first": true
   },
   "source": [
    " "
   ]
  },
  {
   "cell_type": "markdown",
   "metadata": {
    "solution2": "hidden"
   },
   "source": [
    "```python\n",
    "fig3=plt.figure(\"Figure 3\")\n",
    "ax3=fig3.add_subplot(1,1,1)\n",
    "errors = []\n",
    "for k in range(1,15):\n",
    "    knn = neighbors.KNeighborsClassifier(k)\n",
    "    errors.append(100*(1 - knn.fit(xtrain, ytrain).score(xtest, ytest)))\n",
    "ax3.plot(range(1,15), errors, 'o-')\n",
    "ax3.set_xlabel(\"valeur de k\")\n",
    "ax3.set_ylabel(\"pourcentage d'erreur\")\n",
    "plt.show()\n",
    "```"
   ]
  },
  {
   "cell_type": "code",
   "execution_count": 8,
   "metadata": {},
   "outputs": [
    {
     "data": {
      "image/png": "[encoded data removed]",
      "text/plain": [
       "<Figure size 432x288 with 1 Axes>"
      ]
     },
     "metadata": {
      "needs_background": "light"
     },
     "output_type": "display_data"
    }
   ],
   "source": [
    "fig3=plt.figure(\"Figure 3\")\n",
    "ax3=fig3.add_subplot(1,1,1)\n",
    "errors = []\n",
    "for k in range(1,15):\n",
    "    knn = neighbors.KNeighborsClassifier(k)\n",
    "    errors.append(100*(1 - knn.fit(xtrain, ytrain).score(xtest, ytest)))\n",
    "ax3.plot(range(1,15), errors, 'o-')\n",
    "ax3.set_xlabel(\"valeur de k\")\n",
    "ax3.set_ylabel(\"pourcentage d'erreur\")\n",
    "plt.show()"
   ]
  },
  {
   "cell_type": "code",
   "execution_count": 9,
   "metadata": {},
   "outputs": [
    {
     "name": "stdout",
     "output_type": "stream",
     "text": [
      "On récupère le classifieur le plus performant, k = 4, et on l'utilise pour réaliser le classement en deux groupes\n"
     ]
    }
   ],
   "source": [
    "print(\"On récupère le classifieur le plus performant, k = {}, et on l'utilise pour réaliser le classement en deux groupes\".format(1+errors.index(min(errors))))"
   ]
  },
  {
   "cell_type": "markdown",
   "metadata": {},
   "source": [
    "### Modélisation avec la valeur de k retenue"
   ]
  },
  {
   "cell_type": "markdown",
   "metadata": {},
   "source": [
    "On réalise la modélisation, et on récupère les valeurs prédites dans une liste. On peut ensuite comparer cette liste à l'ensemble de test pour vérifier son efficacité."
   ]
  },
  {
   "cell_type": "markdown",
   "metadata": {
    "solution2": "hidden",
    "solution2_first": true
   },
   "source": [
    " "
   ]
  },
  {
   "cell_type": "markdown",
   "metadata": {
    "solution2": "hidden"
   },
   "source": [
    "```python\n",
    "knn = neighbors.KNeighborsClassifier(1+errors.index(min(errors)))\n",
    "knn.fit(xtrain, ytrain)\n",
    "\n",
    "# On récupère les prédictions sur les données test\n",
    "predicted = knn.predict(xtest)\n",
    "\n",
    "misclass = (ytest != predicted)\n",
    "print(\"Pourcentage d'erreurs: {:.2f} %\".format(100*np.sum(misclass)/len(misclass)))\n",
    "```"
   ]
  },
  {
   "cell_type": "code",
   "execution_count": 10,
   "metadata": {},
   "outputs": [],
   "source": [
    "knn = neighbors.KNeighborsClassifier(1+errors.index(min(errors)))\n",
    "knn.fit(xtrain, ytrain)\n",
    "\n",
    "# On récupère les prédictions sur les données test\n",
    "predicted = knn.predict(xtest)"
   ]
  },
  {
   "cell_type": "code",
   "execution_count": 41,
   "metadata": {},
   "outputs": [
    {
     "name": "stdout",
     "output_type": "stream",
     "text": [
      "Pourcentage d'erreurs: 6.14 %\n"
     ]
    }
   ],
   "source": [
    "misclass = (ytest != predicted)\n",
    "print(\"Pourcentage d'erreurs: {:.2f} %\".format(100*np.sum(misclass)/len(misclass)))"
   ]
  },
  {
   "cell_type": "markdown",
   "metadata": {},
   "source": [
    "### Statistiques"
   ]
  },
  {
   "cell_type": "markdown",
   "metadata": {
    "solution2": "hidden",
    "solution2_first": true
   },
   "source": [
    " "
   ]
  },
  {
   "cell_type": "markdown",
   "metadata": {
    "solution2": "hidden"
   },
   "source": [
    "```python\n",
    "estmalade = (ytest == np.zeros(ytest.shape))\n",
    "testpositif = (predicted == np.zeros(ytest.shape)) #POSITIF\n",
    "testnegatif = (predicted != np.zeros(ytest.shape)) #NEGATIF\n",
    "enaccord = (estmalade == testpositif) #VRAI\n",
    "endesaccord = (estmalade != testpositif) #FAUX\n",
    "\n",
    "vraipositif = np.all([enaccord,testpositif],axis=0)\n",
    "vrainegatif = np.all([enaccord,testnegatif],axis=0)\n",
    "fauxpositif = np.all([endesaccord,testpositif],axis=0)\n",
    "fauxnegatif = np.all([endesaccord,testnegatif],axis=0)\n",
    "\n",
    "print(\"Vrai positif: {:.2f} %\".format(100*np.sum(vraipositif)/len(ytest)))\n",
    "print(\"Vrai negatif: {:.2f} %\".format(100*np.sum(vrainegatif)/len(ytest)))\n",
    "print(\"Faux negatif: {:.2f} %\".format(100*np.sum(fauxnegatif)/len(ytest)))\n",
    "print(\"Faux positif: {:.2f} %\".format(100*np.sum(fauxpositif)/len(ytest)))\n",
    "print(\"\")\n",
    "print(\"Est malade: {:.2f} %\".format(100*(np.sum(estmalade))/len(ytest)))\n",
    "print(\"Test positif: {:.2f} %\".format(100*np.sum(testpositif)/len(ytest)))\n",
    "```"
   ]
  },
  {
   "cell_type": "code",
   "execution_count": 66,
   "metadata": {},
   "outputs": [],
   "source": [
    "estmalade = (ytest == np.zeros(ytest.shape))\n",
    "testpositif = (predicted == np.zeros(ytest.shape)) #POSITIF\n",
    "testnegatif = (predicted != np.zeros(ytest.shape)) #NEGATIF\n",
    "enaccord = (estmalade == testpositif) #VRAI\n",
    "endesaccord = (estmalade != testpositif) #FAUX\n",
    "\n",
    "vraipositif = np.all([enaccord,testpositif],axis=0)\n",
    "vrainegatif = np.all([enaccord,testnegatif],axis=0)\n",
    "fauxpositif = np.all([endesaccord,testpositif],axis=0)\n",
    "fauxnegatif = np.all([endesaccord,testnegatif],axis=0)"
   ]
  },
  {
   "cell_type": "code",
   "execution_count": 68,
   "metadata": {},
   "outputs": [
    {
     "name": "stdout",
     "output_type": "stream",
     "text": [
      "Vrai positif: 34.21 %\n",
      "Vrai negatif: 59.65 %\n",
      "Faux negatif: 4.39 %\n",
      "Faux positif: 1.75 %\n",
      "\n",
      "Est malade: 38.60 %\n",
      "Test positif: 35.96 %\n"
     ]
    }
   ],
   "source": [
    "print(\"Vrai positif: {:.2f} %\".format(100*np.sum(vraipositif)/len(ytest)))\n",
    "print(\"Vrai negatif: {:.2f} %\".format(100*np.sum(vrainegatif)/len(ytest)))\n",
    "print(\"Faux negatif: {:.2f} %\".format(100*np.sum(fauxnegatif)/len(ytest)))\n",
    "print(\"Faux positif: {:.2f} %\".format(100*np.sum(fauxpositif)/len(ytest)))\n",
    "print(\"\")\n",
    "print(\"Est malade: {:.2f} %\".format(100*(np.sum(estmalade))/len(ytest)))\n",
    "print(\"Test positif: {:.2f} %\".format(100*np.sum(testpositif)/len(ytest)))"
   ]
  },
  {
   "cell_type": "markdown",
   "metadata": {
    "solution2": "hidden",
    "solution2_first": true
   },
   "source": [
    " "
   ]
  },
  {
   "cell_type": "markdown",
   "metadata": {
    "solution2": "hidden"
   },
   "source": [
    "```python\n",
    "pBA=100*np.sum(vraipositif)/np.sum(estmalade)\n",
    "pA=100*np.sum(estmalade)/len(ytest)\n",
    "pB=100*np.sum(testpositif)/len(ytest)\n",
    "print(\"p(B|A) = {:.2f} %\".format(pBA))\n",
    "print(\"p(A) = {:.2f} %\".format(pA))\n",
    "print(\"p(B) = {:.2f} %\".format(pB))\n",
    "print(\"p(A|B) = ({:.4f}x{:.4f})/{:.4f} = {:.2f} %\".format(pBA/100,pA/100,pB/100,pBA*pA/pB))\n",
    "print(\"\")\n",
    "print(\"Donc la probabilité d'être effectivement malade lorsque le test est positif est de {:.2f} %\".format(pBA*pA/pB))\n",
    "```"
   ]
  },
  {
   "cell_type": "code",
   "execution_count": 69,
   "metadata": {},
   "outputs": [
    {
     "name": "stdout",
     "output_type": "stream",
     "text": [
      "p(B|A) = 88.64 %\n",
      "p(A) = 38.60 %\n",
      "p(B) = 35.96 %\n",
      "p(A|B) = (0.8864x0.3860)/0.3596 = 95.12 %\n",
      "\n",
      "Donc la probabilité d'être effectivement malade lorsque le test est positif est de 95.12 %\n"
     ]
    }
   ],
   "source": [
    "pBA=100*np.sum(vraipositif)/np.sum(estmalade)\n",
    "pA=100*np.sum(estmalade)/len(ytest)\n",
    "pB=100*np.sum(testpositif)/len(ytest)\n",
    "print(\"p(B|A) = {:.2f} %\".format(pBA))\n",
    "print(\"p(A) = {:.2f} %\".format(pA))\n",
    "print(\"p(B) = {:.2f} %\".format(pB))\n",
    "print(\"p(A|B) = ({:.4f}x{:.4f})/{:.4f} = {:.2f} %\".format(pBA/100,pA/100,pB/100,pBA*pA/pB))\n",
    "print(\"\")\n",
    "print(\"Donc la probabilité d'être effectivement malade lorsque le test est positif est de {:.2f} %\".format(pBA*pA/pB))"
   ]
  }
 ],
 "metadata": {
  "kernelspec": {
   "display_name": "Python 3",
   "language": "python",
   "name": "python3"
  },
  "language_info": {
   "codemirror_mode": {
    "name": "ipython",
    "version": 3
   },
   "file_extension": ".py",
   "mimetype": "text/x-python",
   "name": "python",
   "nbconvert_exporter": "python",
   "pygments_lexer": "ipython3",
   "version": "3.7.4"
  }
 },
 "nbformat": 4,
 "nbformat_minor": 2
}
