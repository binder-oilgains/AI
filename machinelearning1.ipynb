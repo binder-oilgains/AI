{
 "cells": [
  {
   "cell_type": "markdown",
   "metadata": {},
   "source": [
    "# <span style=\"color: #FF0000\">Présentation des données utilisées</span>\n",
    "<br>"
   ]
  },
  {
   "cell_type": "code",
   "execution_count": 7,
   "metadata": {},
   "outputs": [],
   "source": [
    "from ipywidgets import interact, widgets, Image, IntSlider"
   ]
  },
  {
   "cell_type": "markdown",
   "metadata": {},
   "source": [
    "### Chargement des bibliothèques nécessaires"
   ]
  },
  {
   "cell_type": "markdown",
   "metadata": {
    "solution2": "hidden",
    "solution2_first": true
   },
   "source": [
    " "
   ]
  },
  {
   "cell_type": "markdown",
   "metadata": {
    "solution2": "hidden"
   },
   "source": [
    "```python\n",
    "import numpy as np\n",
    "import matplotlib.pyplot as plt\n",
    "from sklearn.datasets import fetch_openml\n",
    "import matplotlib.animation as animation\n",
    "```"
   ]
  },
  {
   "cell_type": "markdown",
   "metadata": {},
   "source": [
    "### Mise en mémoire des données du dataset MNIST"
   ]
  },
  {
   "cell_type": "markdown",
   "metadata": {
    "solution2": "hidden",
    "solution2_first": true
   },
   "source": [
    " "
   ]
  },
  {
   "cell_type": "markdown",
   "metadata": {
    "solution2": "hidden"
   },
   "source": [
    "```python\n",
    "X, y = fetch_openml('mnist_784', version=1, return_X_y=True)\n",
    "```"
   ]
  },
  {
   "cell_type": "markdown",
   "metadata": {},
   "source": [
    "### Affichage de la taille des données:\n",
    "jeu d'images: 70000 éléments, taille des images: 28x28 = 784\n",
    "Et la liste des chiffres associés: 70000 éléments"
   ]
  },
  {
   "cell_type": "markdown",
   "metadata": {
    "solution2": "hidden",
    "solution2_first": true
   },
   "source": [
    " "
   ]
  },
  {
   "cell_type": "markdown",
   "metadata": {
    "solution2": "hidden"
   },
   "source": [
    "```python\n",
    "X.shape\n",
    "y.shape\n",
    "```"
   ]
  },
  {
   "cell_type": "code",
   "execution_count": 1,
   "metadata": {},
   "outputs": [
    {
     "name": "stdout",
     "output_type": "stream",
     "text": [
      "(70000, 784)\n",
      "(70000,)\n"
     ]
    }
   ],
   "source": [
    "print((70000, 784))\n",
    "print((70000,))"
   ]
  },
  {
   "cell_type": "markdown",
   "metadata": {},
   "source": [
    "### Changement de la forme des données pour l'affichage des images:\n",
    "on passe de 784 valeurs par images à une répartition en 28x28 pour pouvoir afficher les images"
   ]
  },
  {
   "cell_type": "markdown",
   "metadata": {
    "solution2": "hidden",
    "solution2_first": true
   },
   "source": [
    " "
   ]
  },
  {
   "cell_type": "markdown",
   "metadata": {
    "solution2": "hidden"
   },
   "source": [
    "```python\n",
    "images = X.reshape((-1, 28, 28))\n",
    "images.shape\n",
    "```"
   ]
  },
  {
   "cell_type": "code",
   "execution_count": 2,
   "metadata": {},
   "outputs": [
    {
     "name": "stdout",
     "output_type": "stream",
     "text": [
      "(70000, 28, 28)\n"
     ]
    }
   ],
   "source": [
    "print((70000, 28, 28))"
   ]
  },
  {
   "cell_type": "markdown",
   "metadata": {},
   "source": [
    "### Affichage d'un exemple pour chacune des images avec le chiffre associé:"
   ]
  },
  {
   "cell_type": "markdown",
   "metadata": {
    "solution2": "hidden",
    "solution2_first": true
   },
   "source": [
    " "
   ]
  },
  {
   "cell_type": "markdown",
   "metadata": {
    "solution2": "hidden"
   },
   "source": [
    "```python\n",
    "fig1 = plt.figure(\"Figure 1\")\n",
    "n = 0\n",
    "ax1 = []\n",
    "for i in range(10):\n",
    "    while int(y[n])!=i:\n",
    "        n+=1\n",
    "    ax1.append(fig1.add_subplot(2,5,i+1))\n",
    "    ax1[-1].set_title(y[n])\n",
    "    ax1[-1].imshow(images[n],cmap=plt.cm.gray_r,interpolation=\"nearest\")\n",
    "    ax1[-1].axis(\"off\")\n",
    "fig1.show()\n",
    "```"
   ]
  },
  {
   "cell_type": "code",
   "execution_count": 4,
   "metadata": {},
   "outputs": [
    {
     "data": {
      "application/vnd.jupyter.widget-view+json": {
       "model_id": "fbb320c1a1c8403689be058ccf6152d6",
       "version_major": 2,
       "version_minor": 0
      },
      "text/plain": [
       "Image(value=b'\\x89PNG\\r\\n\\x1a\\n\\x00\\x00\\x00\\rIHDR\\x00\\x00\\x01t\\x00\\x00\\x00\\xdf\\x08\\x06\\x00\\x00\\x00\\xe6\\xcf(\\xc…"
      ]
     },
     "metadata": {},
     "output_type": "display_data"
    }
   ],
   "source": [
    "file = open(\"exemple10chiffres.png\",\"rb\")\n",
    "image = file.read()\n",
    "exemple = Image(\n",
    "    value=image,\n",
    "    format='png',\n",
    "    width=600,\n",
    "    height=300,\n",
    ")\n",
    "\n",
    "display(exemple)"
   ]
  },
  {
   "cell_type": "markdown",
   "metadata": {},
   "source": [
    "### Affichage de plusieurs images représentant un même chiffre. \n",
    "On voit bien les disparités d'une image à l'autre."
   ]
  },
  {
   "cell_type": "markdown",
   "metadata": {
    "solution2": "hidden",
    "solution2_first": true
   },
   "source": [
    " "
   ]
  },
  {
   "cell_type": "markdown",
   "metadata": {
    "solution2": "hidden"
   },
   "source": [
    "```python\n",
    "fig2=plt.figure(\"Figure 2\")\n",
    "ax2 = []\n",
    "for i in range(1,26):\n",
    "    ax2.append(fig2.add_subplot(5,5,i))\n",
    "fig2.show()\n",
    "    \n",
    "def anime(j):\n",
    "    m = j%10\n",
    "    \n",
    "    n = 0\n",
    "    for i in range(25):\n",
    "        while n<len(y) and int(y[n])!=m:\n",
    "            n+=1\n",
    "        if n>=len(y):\n",
    "            break\n",
    "   # plt.title(y[n])\n",
    "        ax2[i].imshow(images[n],cmap=plt.cm.gray_r,interpolation=\"nearest\")\n",
    "        ax2[i].axis('off')\n",
    "        n+=1\n",
    "    n = 0\n",
    "    \n",
    "   \n",
    "    \n",
    "simulation=animation.FuncAnimation(fig2,anime,interval=1000)\n",
    "```"
   ]
  },
  {
   "cell_type": "code",
   "execution_count": 9,
   "metadata": {},
   "outputs": [
    {
     "data": {
      "application/vnd.jupyter.widget-view+json": {
       "model_id": "399e8df33301479da86200a27e3e352e",
       "version_major": 2,
       "version_minor": 0
      },
      "text/plain": [
       "IntSlider(value=5, description='chiffre', max=9)"
      ]
     },
     "metadata": {},
     "output_type": "display_data"
    },
    {
     "data": {
      "application/vnd.jupyter.widget-view+json": {
       "model_id": "9b1cd11f95d845928ad131e7a1651de3",
       "version_major": 2,
       "version_minor": 0
      },
      "text/plain": [
       "Image(value=b'\\x89PNG\\r\\n\\x1a\\n\\x00\\x00\\x00\\rIHDR\\x00\\x00\\x01`\\x00\\x00\\x00\\xfc\\x08\\x06\\x00\\x00\\x00I\\xb2~\\xc0\\x…"
      ]
     },
     "metadata": {},
     "output_type": "display_data"
    }
   ],
   "source": [
    "file2 = [open(\"{}.png\".format(i),\"rb\") for i in range(10)]\n",
    "image2 = [val.read() for val in file2]\n",
    "exemple2 = Image(\n",
    "    value=image2[5],\n",
    "    format='png',\n",
    "    width=600,\n",
    "    height=300,\n",
    ")\n",
    "\n",
    "i = IntSlider(\n",
    "    value = 5,\n",
    "    min = 0,\n",
    "    max = 9,\n",
    "    step = 1,\n",
    "    description = \"chiffre\")\n",
    "\n",
    "def on_value_change(change):\n",
    "    exemple2.value = image2[i.value]\n",
    "    \n",
    "display(i)\n",
    "display(exemple2)\n",
    "\n",
    "i.observe(on_value_change, names='value')"
   ]
  }
 ],
 "metadata": {
  "kernelspec": {
   "display_name": "Python 3",
   "language": "python",
   "name": "python3"
  },
  "language_info": {
   "codemirror_mode": {
    "name": "ipython",
    "version": 3
   },
   "file_extension": ".py",
   "mimetype": "text/x-python",
   "name": "python",
   "nbconvert_exporter": "python",
   "pygments_lexer": "ipython3",
   "version": "3.7.4"
  }
 },
 "nbformat": 4,
 "nbformat_minor": 2
}
