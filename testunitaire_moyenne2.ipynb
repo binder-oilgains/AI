{
 "cells": [
  {
   "cell_type": "code",
   "execution_count": 1,
   "metadata": {},
   "outputs": [],
   "source": [
    "from ipywidgets import Button, Textarea, Layout\n",
    "from IPython.display import display\n",
    "import ipytest\n",
    "from IPython.utils.capture import capture_output"
   ]
  },
  {
   "cell_type": "code",
   "execution_count": 2,
   "metadata": {},
   "outputs": [],
   "source": [
    "#!pip install --user ipython_unittest #a ajouter dans requirements avec ipytest"
   ]
  },
  {
   "cell_type": "code",
   "execution_count": 3,
   "metadata": {},
   "outputs": [],
   "source": [
    "%load_ext ipython_unittest\n",
    "ipytest.config(rewrite_asserts=True, magics=True)\n",
    "__file__ = \"testunitaire_moyenne2.ipynb\""
   ]
  },
  {
   "cell_type": "markdown",
   "metadata": {},
   "source": [
    "<p><br>\n",
    "<br>\n",
    "</p>\n",
    "\n",
    "\n",
    "# <span style=\"color: #FF0000\">Partie II - Ecrire des tests et corriger une fonction\"</span>\n",
    "\n",
    "### Fonction moyenne2 à tester\n",
    "```python\n",
    "def moyenne2(liste):\n",
    "    \"\"\"renvoie la moyenne d'une liste de valeurs\"\"\"\n",
    "    n = len(liste)\n",
    "    if n == 0 :\t\t\t\n",
    "        return None      \t\t\n",
    "    else :                     \t\t\t\n",
    "        somme = 0                            \t\n",
    "        for i in range(1,n):                      \t\n",
    "            somme = somme + liste[i]     \t\n",
    "        return somme / n      \n",
    "```"
   ]
  },
  {
   "cell_type": "code",
   "execution_count": 4,
   "metadata": {},
   "outputs": [],
   "source": [
    "def moyenne2(liste):\n",
    "    \"\"\"renvoie la moyenne d'une liste de valeurs\"\"\"\n",
    "    n = len(liste)\n",
    "    if n == 0 :\n",
    "        return None\n",
    "    else:\n",
    "        somme = 0\n",
    "        for i in range(1,n):\n",
    "            somme = somme + liste[i]\n",
    "        return somme / n  "
   ]
  },
  {
   "cell_type": "markdown",
   "metadata": {},
   "source": [
    "\n",
    "### Definition des tests unitaires\n",
    "```python\n",
    "def test_listenonvide1():\n",
    "    assert moyenne2([3., 2., 1.]) == 2.0\n",
    "\n",
    "def test_listenonvide2():\n",
    "    assert moyenne2([4.]) == 4.0\n",
    "        \n",
    "```"
   ]
  },
  {
   "cell_type": "code",
   "execution_count": 5,
   "metadata": {},
   "outputs": [],
   "source": [
    "ipytest.clean_tests()\n",
    "\n",
    "def test_listenonvide1():\n",
    "    assert moyenne2([3., 2., 1.]) == 2.0\n",
    "\n",
    "def test_listenonvide2():\n",
    "    assert moyenne2([4.]) == 4.0\n"
   ]
  },
  {
   "cell_type": "markdown",
   "metadata": {},
   "source": [
    "\n",
    "### Execution des tests unitaires sur la fonction bonjour\n",
    "```python\n",
    "ipytest.run('-qq')\n",
    "```\n",
    "### Sortie"
   ]
  },
  {
   "cell_type": "code",
   "execution_count": 6,
   "metadata": {},
   "outputs": [
    {
     "name": "stdout",
     "output_type": "stream",
     "text": [
      "FF                                                                       [100%]\n",
      "=================================== FAILURES ===================================\n",
      "______________________________ test_listenonvide1 ______________________________\n",
      "\n",
      "    def test_listenonvide1():\n",
      ">       assert moyenne2([3., 2., 1.]) == 2.0\n",
      "E       assert 1.0 == 2.0\n",
      "E        +  where 1.0 = moyenne2([3.0, 2.0, 1.0])\n",
      "\n",
      "<ipython-input-5-bdd52618fc1d>:4: AssertionError\n",
      "______________________________ test_listenonvide2 ______________________________\n",
      "\n",
      "    def test_listenonvide2():\n",
      ">       assert moyenne2([4.]) == 4.0\n",
      "E       assert 0.0 == 4.0\n",
      "E        +  where 0.0 = moyenne2([4.0])\n",
      "\n",
      "<ipython-input-5-bdd52618fc1d>:7: AssertionError\n"
     ]
    }
   ],
   "source": [
    "ipytest.run('-qq')"
   ]
  },
  {
   "cell_type": "markdown",
   "metadata": {},
   "source": [
    "### Debogage\n",
    "D'après la sortie de ces tests, modifiez la fonction \"moyenne2\" ci-dessous pour qu'elle passe tous les tests"
   ]
  },
  {
   "cell_type": "markdown",
   "metadata": {},
   "source": [
    "**Aide 1**"
   ]
  },
  {
   "cell_type": "markdown",
   "metadata": {
    "solution2": "shown",
    "solution2_first": true
   },
   "source": [
    " "
   ]
  },
  {
   "cell_type": "markdown",
   "metadata": {
    "solution2": "shown"
   },
   "source": [
    "Il y a une erreur dans le cas ou n est positif uniquement, il faut donc se concentrer sur les lignes en dessous du **else**"
   ]
  },
  {
   "cell_type": "markdown",
   "metadata": {},
   "source": [
    "**Aide 2**"
   ]
  },
  {
   "cell_type": "markdown",
   "metadata": {
    "solution2": "shown",
    "solution2_first": true
   },
   "source": [
    " "
   ]
  },
  {
   "cell_type": "markdown",
   "metadata": {
    "solution2": "shown"
   },
   "source": [
    "Le premier élément de la liste n'est pas sommé aux autres d'après le résultat du deuxième test. Il faut donc corriger ce comportement en modifiant les bornes dans le **range**"
   ]
  },
  {
   "cell_type": "code",
   "execution_count": 14,
   "metadata": {
    "solution2": "shown",
    "solution2_first": true
   },
   "outputs": [
    {
     "data": {
      "application/vnd.jupyter.widget-view+json": {
       "model_id": "e85f09886fd44afc970fe3f481c7ae4a",
       "version_major": 2,
       "version_minor": 0
      },
      "text/plain": [
       "Textarea(value='def moyenne2(liste):\\n    \"\"\"renvoie la moyenne d\\'une liste de valeurs\"\"\"\\n    n = len(liste)…"
      ]
     },
     "metadata": {},
     "output_type": "display_data"
    },
    {
     "data": {
      "application/vnd.jupyter.widget-view+json": {
       "model_id": "9caf0fb7b8b2444b8737814b4ccbc26c",
       "version_major": 2,
       "version_minor": 0
      },
      "text/plain": [
       "Textarea(value='def test_listenonvide1():\\n    assert moyenne2([3., 2., 1.]) == 2.0\\n\\ndef test_listenonvide2(…"
      ]
     },
     "metadata": {},
     "output_type": "display_data"
    },
    {
     "data": {
      "application/vnd.jupyter.widget-view+json": {
       "model_id": "be249171b146468fa72a63256653a247",
       "version_major": 2,
       "version_minor": 0
      },
      "text/plain": [
       "Button(description='RUN TESTS', style=ButtonStyle())"
      ]
     },
     "metadata": {},
     "output_type": "display_data"
    },
    {
     "data": {
      "application/vnd.jupyter.widget-view+json": {
       "model_id": "96f87ec8eec3476d8d1e0c77865d9938",
       "version_major": 2,
       "version_minor": 0
      },
      "text/plain": [
       "Textarea(value=' ', description='Sortie', disabled=True, layout=Layout(height='300px', width='95%'), placehold…"
      ]
     },
     "metadata": {},
     "output_type": "display_data"
    }
   ],
   "source": [
    "lin3 =     Textarea(\n",
    "    value=\"\"\"def moyenne2(liste):\n",
    "    \\\"\\\"\\\"renvoie la moyenne d'une liste de valeurs\\\"\\\"\\\"\n",
    "    n = len(liste)\n",
    "    if n == 0 :\n",
    "        return None\n",
    "    else:\n",
    "        somme = 0\n",
    "        for i in range(1,n):\n",
    "            somme = somme + liste[i]\n",
    "        return somme / n\"\"\",\n",
    "    placeholder='Type something',\n",
    "    description='Fonction',\n",
    "    disabled=False,\n",
    "    layout=Layout(width='95%', height='350px')\n",
    ")\n",
    "lin4 =     Textarea(\n",
    "    value=\"\"\"def test_listenonvide1():\n",
    "    assert moyenne2([3., 2., 1.]) == 2.0\n",
    "\n",
    "def test_listenonvide2():\n",
    "    assert moyenne2([4.]) == 4.0\"\"\",\n",
    "    placeholder='Type something',\n",
    "    description='Tests',\n",
    "    disabled=False,\n",
    "    layout=Layout(width='95%', height='350px')\n",
    ")\n",
    "lout3 =     Textarea(\n",
    "    value=\" \",\n",
    "    placeholder=' ',\n",
    "    description='Sortie',\n",
    "    disabled=True,\n",
    "    layout=Layout(width='95%', height='300px')\n",
    ")\n",
    "\n",
    "button3 = Button(description=\"RUN TESTS\")\n",
    "\n",
    "\n",
    "display(lin3)\n",
    "display(lin4)\n",
    "display(button3)\n",
    "display(lout3)\n",
    "\n",
    "def onclick3(b=None):\n",
    "    f= open(\"testu3.py\",\"w\")\n",
    "    f.write(\"\"\"import ipytest\n",
    "\n",
    "ipytest.config(rewrite_asserts=True, magics=True)\n",
    "__file__ = \"testunitaire_moyenne2.ipynb\"\n",
    "\n",
    "{}\n",
    "ipytest.clean_tests()\n",
    "\n",
    "{}\n",
    "    \n",
    "ipytest.run('-qq')\"\"\".format(lin3.value,lin4.value))\n",
    "    f.close()\n",
    "    with capture_output() as c:\n",
    "        %run testu3.py\n",
    "    #c()\n",
    "    lout3.value=c.stdout\n",
    "button3.on_click(onclick3)"
   ]
  },
  {
   "cell_type": "markdown",
   "metadata": {
    "solution2": "shown"
   },
   "source": [
    "On peut corriger le comportement en faisant un cran  de plus dans la boucle (on change le n en n+1). On a donc n tours de boucle pour i allant de 1 à n (n+1 est exclu). Attention, il faut alors faire appel à l'élément d'indice i-1 car ils sont numérotés à partir de 0 dans une liste en python.\n",
    "```python\n",
    "def moyenne2(liste):\n",
    "    \"\"\"renvoie la moyenne d'une liste de valeurs\"\"\"\n",
    "    n = len(liste)\n",
    "    if n == 0 :\t\t\t\n",
    "        return None      \t\t\n",
    "    else :                     \t\t\t\n",
    "        somme = 0                            \t\n",
    "        for i in range(1,n+1):                      \t\n",
    "            somme = somme + liste[i-1]     \t\n",
    "        return somme / n      \n",
    "```\n",
    "\n",
    "\n",
    "On peut aussi corriger le comportement en démarrant un cran plus tôt dans la boucle (on change le 1 en 0). On a donc n tours de boucle pour i allant de 0 à n-1 (n est exclu). C'est la solution la plus simple.\n",
    "```python\n",
    "def moyenne2(liste):\n",
    "    \"\"\"renvoie la moyenne d'une liste de valeurs\"\"\"\n",
    "    n = len(liste)\n",
    "    if n == 0 :\t\t\t\n",
    "        return None      \t\t\n",
    "    else :                     \t\t\t\n",
    "        somme = 0                            \t\n",
    "        for i in range(0,n):                      \t\n",
    "            somme = somme + liste[i]     \t\n",
    "        return somme / n      \n",
    "```\n",
    "\n",
    "On peut enfin corriger le comportement en initialisant la réponse avec un élément car c'est la taille minimale pour cette branche du programme. On a un élément puis on fait n-1 tours de boucle.\n",
    "```python\n",
    "def moyenne2(liste):\n",
    "    \"\"\"renvoie la moyenne d'une liste de valeurs\"\"\"\n",
    "    n = len(liste)\n",
    "    if n == 0 :\t\t\t\n",
    "        return None      \t\t\n",
    "    else :                     \t\t\t\n",
    "        somme = liste[0]                           \t\n",
    "        for i in range(1,n):                      \t\n",
    "            somme = somme + liste[i]     \t\n",
    "        return somme / n      \n",
    "```"
   ]
  }
 ],
 "metadata": {
  "kernelspec": {
   "display_name": "Python 3",
   "language": "python",
   "name": "python3"
  },
  "language_info": {
   "codemirror_mode": {
    "name": "ipython",
    "version": 3
   },
   "file_extension": ".py",
   "mimetype": "text/x-python",
   "name": "python",
   "nbconvert_exporter": "python",
   "pygments_lexer": "ipython3",
   "version": "3.7.3"
  },
  "varInspector": {
   "cols": {
    "lenName": 16,
    "lenType": 16,
    "lenVar": 40
   },
   "kernels_config": {
    "python": {
     "delete_cmd_postfix": "",
     "delete_cmd_prefix": "del ",
     "library": "var_list.py",
     "varRefreshCmd": "print(var_dic_list())"
    },
    "r": {
     "delete_cmd_postfix": ") ",
     "delete_cmd_prefix": "rm(",
     "library": "var_list.r",
     "varRefreshCmd": "cat(var_dic_list()) "
    }
   },
   "types_to_exclude": [
    "module",
    "function",
    "builtin_function_or_method",
    "instance",
    "_Feature"
   ],
   "window_display": false
  }
 },
 "nbformat": 4,
 "nbformat_minor": 2
}
