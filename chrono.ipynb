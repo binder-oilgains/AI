{
 "cells": [
  {
   "cell_type": "code",
   "execution_count": 4,
   "metadata": {},
   "outputs": [],
   "source": [
    "import time\n",
    "import random\n",
    "import numpy as np"
   ]
  },
  {
   "cell_type": "code",
   "execution_count": 6,
   "metadata": {},
   "outputs": [
    {
     "name": "stdout",
     "output_type": "stream",
     "text": [
      "durée moyenne d'une multiplication de deux nombres à 10 chiffres: 5.64 ns\n"
     ]
    }
   ],
   "source": [
    "n = 100000\n",
    "temps = 0\n",
    "\n",
    "for i in range(10):\n",
    "    L1 = np.array( [random.randint(1000000000,9999999999) for i in range(n)] )\n",
    "    L2 = np.array( [random.randint(1000000000,9999999999) for i in range(n)] )\n",
    "    t = time.time()\n",
    "    L1*L2\n",
    "    temps+=(time.time()-t)/n\n",
    "\n",
    "print(\"durée moyenne d'une multiplication de deux nombres à 10 chiffres: {:.2f} ns\".format(1e9*temps/10))"
   ]
  }
 ],
 "metadata": {
  "kernelspec": {
   "display_name": "Python 3",
   "language": "python",
   "name": "python3"
  },
  "language_info": {
   "codemirror_mode": {
    "name": "ipython",
    "version": 3
   },
   "file_extension": ".py",
   "mimetype": "text/x-python",
   "name": "python",
   "nbconvert_exporter": "python",
   "pygments_lexer": "ipython3",
   "version": "3.7.3"
  }
 },
 "nbformat": 4,
 "nbformat_minor": 2
}
