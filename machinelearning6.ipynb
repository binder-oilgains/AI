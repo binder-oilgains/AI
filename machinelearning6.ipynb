{
 "cells": [
  {
   "cell_type": "code",
   "execution_count": null,
   "metadata": {},
   "outputs": [],
   "source": [
    "print(\"Apprentissage en cours, veuillez patienter\")"
   ]
  },
  {
   "cell_type": "code",
   "execution_count": 26,
   "metadata": {},
   "outputs": [],
   "source": [
    "from ipywidgets import widgets, Image, HBox, Button, VBox, HTML, Layout\n",
    "import numpy as np\n",
    "from sklearn.datasets import fetch_openml\n",
    "from sklearn import neighbors\n",
    "from ipyevents import Event \n",
    "from IPython.display import display\n",
    "import PIL.Image"
   ]
  },
  {
   "cell_type": "code",
   "execution_count": 5,
   "metadata": {},
   "outputs": [],
   "source": [
    "X, y = fetch_openml('mnist_784', version=1, return_X_y=True)"
   ]
  },
  {
   "cell_type": "code",
   "execution_count": 7,
   "metadata": {},
   "outputs": [
    {
     "name": "stdout",
     "output_type": "stream",
     "text": [
      "Apprentissage terminé\n"
     ]
    }
   ],
   "source": [
    "knn = neighbors.KNeighborsClassifier(4)\n",
    "knn.fit(X, y)\n",
    "print(\"Apprentissage terminé\")"
   ]
  },
  {
   "cell_type": "code",
   "execution_count": 27,
   "metadata": {},
   "outputs": [
    {
     "data": {
      "application/vnd.jupyter.widget-view+json": {
       "model_id": "7613fbe31a4b4ad3976ab0e94580eed9",
       "version_major": 2,
       "version_minor": 0
      },
      "text/plain": [
       "HBox(children=(Button(description='ERASE', style=ButtonStyle()), Image(value=b'\\x89PNG\\r\\n\\x1a\\n\\x00\\x00\\x00\\r…"
      ]
     },
     "metadata": {},
     "output_type": "display_data"
    }
   ],
   "source": [
    "\n",
    "\n",
    "im = PIL.Image.new('L',(28,28),0)\n",
    "im.save('im.png')\n",
    "\n",
    "im2 = Image(\n",
    " \n",
    "    width='600px',\n",
    "    height='600px',\n",
    ")\n",
    "im2.layout.border = '2px solid black'\n",
    "im2.set_value_from_file(\"im.png\")\n",
    "#display(im2)\n",
    "    \n",
    "no_drag = Event(source=im2, watched_events=['dragstart','contextmenu','drag','dragover','dragend'], prevent_default_action = True)\n",
    "d = Event(source=im2, watched_events=['mouseup', 'mousedown','mousemove','click'])\n",
    "flag = False\n",
    "flag2 = False\n",
    "def handle_event(event):\n",
    "    global im,im2,flag,flag2\n",
    "    #print(event.datax)\n",
    "    for k,v in event.items():\n",
    "        if v == \"mousedown\" or v ==\"touchstart\":\n",
    "            flag = True\n",
    "        if v == \"mouseup\" or v == \"touchend\":\n",
    "            flag = False\n",
    "        if v ==\"click\":\n",
    "            flag2 = True\n",
    "    lines = [v for k, v in event.items() if k=='dataX' or k=='dataY']\n",
    "    #content = ' '.join(lines)\n",
    "    #h.value = content\n",
    "    if flag or flag2:\n",
    "        x = lines[0]\n",
    "        y = lines[1]\n",
    "        if 0<x<27 and 0<y<27:\n",
    "            for i in range(x-1,x+2):\n",
    "                for j in range(y-1,y+2):\n",
    "                    im.putpixel((i,j),255)\n",
    "        else:\n",
    "            im.putpixel(lines,255)\n",
    "        im.save('im.png')\n",
    "        im2.set_value_from_file(\"im.png\")\n",
    "        flag2 = False\n",
    "\n",
    "d.on_dom_event(handle_event)\n",
    "\n",
    "def on_b_click(but):\n",
    "    global im,im2\n",
    "    im = PIL.Image.new('L',(28,28),0)\n",
    "    im.save('im.png')\n",
    "    im2.set_value_from_file(\"im.png\")\n",
    "    \n",
    "def on_b2_click(but):\n",
    "    global im,im2,knn,rep\n",
    "    predicted = knn.predict([list(im.getdata())])\n",
    "    rep.value = \"<h1><center>\"+predicted[0]+\"</center></h1>\"#print(predicted)\n",
    "    #print([list(im.getdata())])\n",
    "    #print(xtest[1])\n",
    "rep = HTML(\n",
    "    value = \"<h1><center>Reponse</h1></center>\"\n",
    ")    \n",
    "\n",
    "b = Button(\n",
    "    description=\"ERASE\")\n",
    "b.on_click(on_b_click)\n",
    "#display(b)\n",
    "\n",
    "b2 = Button(\n",
    "    description=\"IDENTIFY\")\n",
    "b2.on_click(on_b2_click)\n",
    "v = VBox([b2,rep])\n",
    "#display(b2)\n",
    "display(HBox([b,im2,v]))\n"
   ]
  }
 ],
 "metadata": {
  "kernelspec": {
   "display_name": "Python 3",
   "language": "python",
   "name": "python3"
  },
  "language_info": {
   "codemirror_mode": {
    "name": "ipython",
    "version": 3
   },
   "file_extension": ".py",
   "mimetype": "text/x-python",
   "name": "python",
   "nbconvert_exporter": "python",
   "pygments_lexer": "ipython3",
   "version": "3.7.4"
  }
 },
 "nbformat": 4,
 "nbformat_minor": 2
}
